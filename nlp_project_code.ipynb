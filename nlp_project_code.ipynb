{
  "cells": [
    {
      "cell_type": "code",
      "execution_count": 6,
      "metadata": {
        "colab": {
          "base_uri": "https://localhost:8080/"
        },
        "id": "8EVAKEnitjVU",
        "outputId": "29bae7b6-bb0e-4227-fa69-016f5cafe418"
      },
      "outputs": [
        {
          "name": "stdout",
          "output_type": "stream",
          "text": [
            "Looking in indexes: https://pypi.org/simple, https://us-python.pkg.dev/colab-wheels/public/simple/\n",
            "Requirement already satisfied: transformers in /usr/local/lib/python3.8/dist-packages (4.25.1)\n",
            "Requirement already satisfied: requests in /usr/local/lib/python3.8/dist-packages (from transformers) (2.23.0)\n",
            "Requirement already satisfied: regex!=2019.12.17 in /usr/local/lib/python3.8/dist-packages (from transformers) (2022.6.2)\n",
            "Requirement already satisfied: tqdm>=4.27 in /usr/local/lib/python3.8/dist-packages (from transformers) (4.64.1)\n",
            "Requirement already satisfied: packaging>=20.0 in /usr/local/lib/python3.8/dist-packages (from transformers) (21.3)\n",
            "Requirement already satisfied: pyyaml>=5.1 in /usr/local/lib/python3.8/dist-packages (from transformers) (6.0)\n",
            "Requirement already satisfied: numpy>=1.17 in /usr/local/lib/python3.8/dist-packages (from transformers) (1.21.6)\n",
            "Requirement already satisfied: tokenizers!=0.11.3,<0.14,>=0.11.1 in /usr/local/lib/python3.8/dist-packages (from transformers) (0.13.2)\n",
            "Requirement already satisfied: filelock in /usr/local/lib/python3.8/dist-packages (from transformers) (3.8.2)\n",
            "Requirement already satisfied: huggingface-hub<1.0,>=0.10.0 in /usr/local/lib/python3.8/dist-packages (from transformers) (0.11.1)\n",
            "Requirement already satisfied: typing-extensions>=3.7.4.3 in /usr/local/lib/python3.8/dist-packages (from huggingface-hub<1.0,>=0.10.0->transformers) (4.4.0)\n",
            "Requirement already satisfied: pyparsing!=3.0.5,>=2.0.2 in /usr/local/lib/python3.8/dist-packages (from packaging>=20.0->transformers) (3.0.9)\n",
            "Requirement already satisfied: certifi>=2017.4.17 in /usr/local/lib/python3.8/dist-packages (from requests->transformers) (2022.12.7)\n",
            "Requirement already satisfied: chardet<4,>=3.0.2 in /usr/local/lib/python3.8/dist-packages (from requests->transformers) (3.0.4)\n",
            "Requirement already satisfied: urllib3!=1.25.0,!=1.25.1,<1.26,>=1.21.1 in /usr/local/lib/python3.8/dist-packages (from requests->transformers) (1.24.3)\n",
            "Requirement already satisfied: idna<3,>=2.5 in /usr/local/lib/python3.8/dist-packages (from requests->transformers) (2.10)\n"
          ]
        }
      ],
      "source": [
        "!pip install transformers\n",
        "import numpy as np\n",
        "import pandas as pd\n",
        "import os\n",
        "import seaborn as sns\n",
        "import matplotlib.pyplot as plt\n",
        "%matplotlib inline\n",
        "import tensorflow as tf\n",
        "from tensorflow.keras.layers import Input, Dense\n",
        "from tensorflow.keras.callbacks import EarlyStopping, ModelCheckpoint\n",
        "import transformers\n",
        "from transformers import RobertaTokenizer, TFRobertaModel\n",
        "transformers.logging.set_verbosity_error()\n",
        "import warnings\n",
        "warnings.filterwarnings(\"ignore\", category=RuntimeWarning)"
      ]
    },
    {
      "cell_type": "code",
      "execution_count": 3,
      "metadata": {
        "colab": {
          "base_uri": "https://localhost:8080/"
        },
        "id": "wJ2WzEiG5gfX",
        "outputId": "bcf28ee3-6f7e-4857-c449-ba140345b053"
      },
      "outputs": [
        {
          "name": "stdout",
          "output_type": "stream",
          "text": [
            "Mounted at /content/drive\n"
          ]
        }
      ],
      "source": [
        "from google.colab import drive\n",
        "drive.mount('/content/drive')"
      ]
    },
    {
      "cell_type": "markdown",
      "metadata": {
        "id": "Nssy-C3XQu7h"
      },
      "source": [
        "###Data Preprocessing\n"
      ]
    },
    {
      "cell_type": "code",
      "execution_count": 7,
      "metadata": {
        "id": "nQ_kzgFctjVV"
      },
      "outputs": [],
      "source": [
        "df_train = pd.read_csv(\"/content/drive/MyDrive/NLP_Final_Project/Poem_classification - train_data.csv\")\n",
        "df_test = pd.read_csv(\"/content/drive/MyDrive/NLP_Final_Project/Poem_classification - test_data.csv\")"
      ]
    },
    {
      "cell_type": "code",
      "execution_count": 8,
      "metadata": {
        "colab": {
          "base_uri": "https://localhost:8080/",
          "height": 321
        },
        "id": "jsuvD0uJBijV",
        "outputId": "ebc68746-c6b5-4de7-873e-622a130a8449"
      },
      "outputs": [
        {
          "data": {
            "text/plain": [
              "(array([239.,   0.,   0., 234.,   0.,   0., 141.,   0.,   0., 227.]),\n",
              " array([0. , 0.3, 0.6, 0.9, 1.2, 1.5, 1.8, 2.1, 2.4, 2.7, 3. ]),\n",
              " <a list of 10 Patch objects>)"
            ]
          },
          "execution_count": 8,
          "metadata": {},
          "output_type": "execute_result"
        },
        {
          "data": {
            "image/png": "[encoded data removed]",
            "text/plain": [
              "<Figure size 432x288 with 1 Axes>"
            ]
          },
          "metadata": {
            "needs_background": "light"
          },
          "output_type": "display_data"
        }
      ],
      "source": [
        "plt.hist(df_train[\"Genre\"])"
      ]
    },
    {
      "cell_type": "code",
      "execution_count": 9,
      "metadata": {
        "colab": {
          "base_uri": "https://localhost:8080/"
        },
        "id": "78MJekbLN64W",
        "outputId": "5493deb3-aefc-438b-facd-02b580402c3f"
      },
      "outputs": [
        {
          "data": {
            "text/plain": [
              "Genre    0\n",
              "Poem     0\n",
              "dtype: int64"
            ]
          },
          "execution_count": 9,
          "metadata": {},
          "output_type": "execute_result"
        }
      ],
      "source": [
        "df_train = df_train.dropna(axis=0)\n",
        "df_train.isnull().sum()"
      ]
    },
    {
      "cell_type": "code",
      "execution_count": 10,
      "metadata": {
        "colab": {
          "base_uri": "https://localhost:8080/"
        },
        "id": "uOgvdRE9N64X",
        "outputId": "a8e7c60c-20e7-4e15-bca4-055cf5e45b0d"
      },
      "outputs": [
        {
          "data": {
            "text/plain": [
              "Genre    0\n",
              "Poem     0\n",
              "dtype: int64"
            ]
          },
          "execution_count": 10,
          "metadata": {},
          "output_type": "execute_result"
        }
      ],
      "source": [
        "df_test.isnull().sum()"
      ]
    },
    {
      "cell_type": "code",
      "execution_count": 11,
      "metadata": {
        "colab": {
          "base_uri": "https://localhost:8080/",
          "height": 830
        },
        "id": "M36QQSdBN64X",
        "outputId": "0bbed2bc-0b18-4380-c58e-4a4aa59b6f6a"
      },
      "outputs": [
        {
          "data": {
            "text/html": [
              "\n",
              "  <div id=\"df-ae4d00ef-d539-4b6b-94d5-9f7ea8f977b8\">\n",
              "    <div class=\"colab-df-container\">\n",
              "      <div>\n",
              "<style scoped>\n",
              "    .dataframe tbody tr th:only-of-type {\n",
              "        vertical-align: middle;\n",
              "    }\n",
              "\n",
              "    .dataframe tbody tr th {\n",
              "        vertical-align: top;\n",
              "    }\n",
              "\n",
              "    .dataframe thead th {\n",
              "        text-align: right;\n",
              "    }\n",
              "</style>\n",
              "<table border=\"1\" class=\"dataframe\">\n",
              "  <thead>\n",
              "    <tr style=\"text-align: right;\">\n",
              "      <th></th>\n",
              "      <th>Genre</th>\n",
              "      <th>Poem</th>\n",
              "    </tr>\n",
              "  </thead>\n",
              "  <tbody>\n",
              "    <tr>\n",
              "      <th>1</th>\n",
              "      <td>Music</td>\n",
              "      <td>In the thick brushthey spend the...</td>\n",
              "    </tr>\n",
              "    <tr>\n",
              "      <th>2</th>\n",
              "      <td>Music</td>\n",
              "      <td>Storms are generous.                       ...</td>\n",
              "    </tr>\n",
              "    <tr>\n",
              "      <th>3</th>\n",
              "      <td>Music</td>\n",
              "      <td>—After Ana Mendieta Did you carry around the ...</td>\n",
              "    </tr>\n",
              "    <tr>\n",
              "      <th>4</th>\n",
              "      <td>Music</td>\n",
              "      <td>for Aja Sherrard at 20The portent may itself ...</td>\n",
              "    </tr>\n",
              "    <tr>\n",
              "      <th>5</th>\n",
              "      <td>Music</td>\n",
              "      <td>for Bob Marley, Bavaria, November 1980 Here i...</td>\n",
              "    </tr>\n",
              "    <tr>\n",
              "      <th>...</th>\n",
              "      <td>...</td>\n",
              "      <td>...</td>\n",
              "    </tr>\n",
              "    <tr>\n",
              "      <th>836</th>\n",
              "      <td>Environment</td>\n",
              "      <td>Why make so much of fragmentary blue In here a...</td>\n",
              "    </tr>\n",
              "    <tr>\n",
              "      <th>837</th>\n",
              "      <td>Environment</td>\n",
              "      <td>Woman, I wish I didn't know your name. What co...</td>\n",
              "    </tr>\n",
              "    <tr>\n",
              "      <th>838</th>\n",
              "      <td>Environment</td>\n",
              "      <td>Yonder to the kiosk, beside the creek, Paddle ...</td>\n",
              "    </tr>\n",
              "    <tr>\n",
              "      <th>839</th>\n",
              "      <td>Environment</td>\n",
              "      <td>You come to fetch me from my work to-night Whe...</td>\n",
              "    </tr>\n",
              "    <tr>\n",
              "      <th>840</th>\n",
              "      <td>Environment</td>\n",
              "      <td>You see them through water and glass, (both li...</td>\n",
              "    </tr>\n",
              "  </tbody>\n",
              "</table>\n",
              "<p>837 rows × 2 columns</p>\n",
              "</div>\n",
              "      <button class=\"colab-df-convert\" onclick=\"convertToInteractive('df-ae4d00ef-d539-4b6b-94d5-9f7ea8f977b8')\"\n",
              "              title=\"Convert this dataframe to an interactive table.\"\n",
              "              style=\"display:none;\">\n",
              "        \n",
              "  <svg xmlns=\"http://www.w3.org/2000/svg\" height=\"24px\"viewBox=\"0 0 24 24\"\n",
              "       width=\"24px\">\n",
              "    <path d=\"M0 0h24v24H0V0z\" fill=\"none\"/>\n",
              "    <path d=\"M18.56 5.44l.94 2.06.94-2.06 2.06-.94-2.06-.94-.94-2.06-.94 2.06-2.06.94zm-11 1L8.5 8.5l.94-2.06 2.06-.94-2.06-.94L8.5 2.5l-.94 2.06-2.06.94zm10 10l.94 2.06.94-2.06 2.06-.94-2.06-.94-.94-2.06-.94 2.06-2.06.94z\"/><path d=\"M17.41 7.96l-1.37-1.37c-.4-.4-.92-.59-1.43-.59-.52 0-1.04.2-1.43.59L10.3 9.45l-7.72 7.72c-.78.78-.78 2.05 0 2.83L4 21.41c.39.39.9.59 1.41.59.51 0 1.02-.2 1.41-.59l7.78-7.78 2.81-2.81c.8-.78.8-2.07 0-2.86zM5.41 20L4 18.59l7.72-7.72 1.47 1.35L5.41 20z\"/>\n",
              "  </svg>\n",
              "      </button>\n",
              "      \n",
              "  <style>\n",
              "    .colab-df-container {\n",
              "      display:flex;\n",
              "      flex-wrap:wrap;\n",
              "      gap: 12px;\n",
              "    }\n",
              "\n",
              "    .colab-df-convert {\n",
              "      background-color: #E8F0FE;\n",
              "      border: none;\n",
              "      border-radius: 50%;\n",
              "      cursor: pointer;\n",
              "      display: none;\n",
              "      fill: #1967D2;\n",
              "      height: 32px;\n",
              "      padding: 0 0 0 0;\n",
              "      width: 32px;\n",
              "    }\n",
              "\n",
              "    .colab-df-convert:hover {\n",
              "      background-color: #E2EBFA;\n",
              "      box-shadow: 0px 1px 2px rgba(60, 64, 67, 0.3), 0px 1px 3px 1px rgba(60, 64, 67, 0.15);\n",
              "      fill: #174EA6;\n",
              "    }\n",
              "\n",
              "    [theme=dark] .colab-df-convert {\n",
              "      background-color: #3B4455;\n",
              "      fill: #D2E3FC;\n",
              "    }\n",
              "\n",
              "    [theme=dark] .colab-df-convert:hover {\n",
              "      background-color: #434B5C;\n",
              "      box-shadow: 0px 1px 3px 1px rgba(0, 0, 0, 0.15);\n",
              "      filter: drop-shadow(0px 1px 2px rgba(0, 0, 0, 0.3));\n",
              "      fill: #FFFFFF;\n",
              "    }\n",
              "  </style>\n",
              "\n",
              "      <script>\n",
              "        const buttonEl =\n",
              "          document.querySelector('#df-ae4d00ef-d539-4b6b-94d5-9f7ea8f977b8 button.colab-df-convert');\n",
              "        buttonEl.style.display =\n",
              "          google.colab.kernel.accessAllowed ? 'block' : 'none';\n",
              "\n",
              "        async function convertToInteractive(key) {\n",
              "          const element = document.querySelector('#df-ae4d00ef-d539-4b6b-94d5-9f7ea8f977b8');\n",
              "          const dataTable =\n",
              "            await google.colab.kernel.invokeFunction('convertToInteractive',\n",
              "                                                     [key], {});\n",
              "          if (!dataTable) return;\n",
              "\n",
              "          const docLinkHtml = 'Like what you see? Visit the ' +\n",
              "            '<a target=\"_blank\" href=https://colab.research.google.com/notebooks/data_table.ipynb>data table notebook</a>'\n",
              "            + ' to learn more about interactive tables.';\n",
              "          element.innerHTML = '';\n",
              "          dataTable['output_type'] = 'display_data';\n",
              "          await google.colab.output.renderOutput(dataTable, element);\n",
              "          const docLink = document.createElement('div');\n",
              "          docLink.innerHTML = docLinkHtml;\n",
              "          element.appendChild(docLink);\n",
              "        }\n",
              "      </script>\n",
              "    </div>\n",
              "  </div>\n",
              "  "
            ],
            "text/plain": [
              "           Genre                                               Poem\n",
              "1          Music                In the thick brushthey spend the...\n",
              "2          Music     Storms are generous.                       ...\n",
              "3          Music   —After Ana Mendieta Did you carry around the ...\n",
              "4          Music   for Aja Sherrard at 20The portent may itself ...\n",
              "5          Music   for Bob Marley, Bavaria, November 1980 Here i...\n",
              "..           ...                                                ...\n",
              "836  Environment  Why make so much of fragmentary blue In here a...\n",
              "837  Environment  Woman, I wish I didn't know your name. What co...\n",
              "838  Environment  Yonder to the kiosk, beside the creek, Paddle ...\n",
              "839  Environment  You come to fetch me from my work to-night Whe...\n",
              "840  Environment  You see them through water and glass, (both li...\n",
              "\n",
              "[837 rows x 2 columns]"
            ]
          },
          "metadata": {},
          "output_type": "display_data"
        },
        {
          "data": {
            "text/html": [
              "\n",
              "  <div id=\"df-efe0a59f-11a4-495b-9a72-2faf01aac766\">\n",
              "    <div class=\"colab-df-container\">\n",
              "      <div>\n",
              "<style scoped>\n",
              "    .dataframe tbody tr th:only-of-type {\n",
              "        vertical-align: middle;\n",
              "    }\n",
              "\n",
              "    .dataframe tbody tr th {\n",
              "        vertical-align: top;\n",
              "    }\n",
              "\n",
              "    .dataframe thead th {\n",
              "        text-align: right;\n",
              "    }\n",
              "</style>\n",
              "<table border=\"1\" class=\"dataframe\">\n",
              "  <thead>\n",
              "    <tr style=\"text-align: right;\">\n",
              "      <th></th>\n",
              "      <th>Genre</th>\n",
              "      <th>Poem</th>\n",
              "    </tr>\n",
              "  </thead>\n",
              "  <tbody>\n",
              "    <tr>\n",
              "      <th>0</th>\n",
              "      <td>Music</td>\n",
              "      <td>A woman walks by the bench I’m sitting onwith ...</td>\n",
              "    </tr>\n",
              "    <tr>\n",
              "      <th>1</th>\n",
              "      <td>Music</td>\n",
              "      <td>Because I am a boy, the untouchability of beau...</td>\n",
              "    </tr>\n",
              "    <tr>\n",
              "      <th>2</th>\n",
              "      <td>Music</td>\n",
              "      <td>Because today we did not leave this world,We n...</td>\n",
              "    </tr>\n",
              "    <tr>\n",
              "      <th>3</th>\n",
              "      <td>Music</td>\n",
              "      <td>Big Bend has been here, been here. Shouldn’t i...</td>\n",
              "    </tr>\n",
              "    <tr>\n",
              "      <th>4</th>\n",
              "      <td>Music</td>\n",
              "      <td>I put shells there, along the lip of the road....</td>\n",
              "    </tr>\n",
              "    <tr>\n",
              "      <th>...</th>\n",
              "      <td>...</td>\n",
              "      <td>...</td>\n",
              "    </tr>\n",
              "    <tr>\n",
              "      <th>145</th>\n",
              "      <td>Environment</td>\n",
              "      <td>To pick a tulip from the garden, the red one. ...</td>\n",
              "    </tr>\n",
              "    <tr>\n",
              "      <th>146</th>\n",
              "      <td>Environment</td>\n",
              "      <td>We are as clouds that veil the midnight moon; ...</td>\n",
              "    </tr>\n",
              "    <tr>\n",
              "      <th>147</th>\n",
              "      <td>Environment</td>\n",
              "      <td>When pulled, the spider web took another form....</td>\n",
              "    </tr>\n",
              "    <tr>\n",
              "      <th>148</th>\n",
              "      <td>Environment</td>\n",
              "      <td>Whose woods these are I think I know. His hous...</td>\n",
              "    </tr>\n",
              "    <tr>\n",
              "      <th>149</th>\n",
              "      <td>Environment</td>\n",
              "      <td>you can make the maples blazejust by stopping ...</td>\n",
              "    </tr>\n",
              "  </tbody>\n",
              "</table>\n",
              "<p>150 rows × 2 columns</p>\n",
              "</div>\n",
              "      <button class=\"colab-df-convert\" onclick=\"convertToInteractive('df-efe0a59f-11a4-495b-9a72-2faf01aac766')\"\n",
              "              title=\"Convert this dataframe to an interactive table.\"\n",
              "              style=\"display:none;\">\n",
              "        \n",
              "  <svg xmlns=\"http://www.w3.org/2000/svg\" height=\"24px\"viewBox=\"0 0 24 24\"\n",
              "       width=\"24px\">\n",
              "    <path d=\"M0 0h24v24H0V0z\" fill=\"none\"/>\n",
              "    <path d=\"M18.56 5.44l.94 2.06.94-2.06 2.06-.94-2.06-.94-.94-2.06-.94 2.06-2.06.94zm-11 1L8.5 8.5l.94-2.06 2.06-.94-2.06-.94L8.5 2.5l-.94 2.06-2.06.94zm10 10l.94 2.06.94-2.06 2.06-.94-2.06-.94-.94-2.06-.94 2.06-2.06.94z\"/><path d=\"M17.41 7.96l-1.37-1.37c-.4-.4-.92-.59-1.43-.59-.52 0-1.04.2-1.43.59L10.3 9.45l-7.72 7.72c-.78.78-.78 2.05 0 2.83L4 21.41c.39.39.9.59 1.41.59.51 0 1.02-.2 1.41-.59l7.78-7.78 2.81-2.81c.8-.78.8-2.07 0-2.86zM5.41 20L4 18.59l7.72-7.72 1.47 1.35L5.41 20z\"/>\n",
              "  </svg>\n",
              "      </button>\n",
              "      \n",
              "  <style>\n",
              "    .colab-df-container {\n",
              "      display:flex;\n",
              "      flex-wrap:wrap;\n",
              "      gap: 12px;\n",
              "    }\n",
              "\n",
              "    .colab-df-convert {\n",
              "      background-color: #E8F0FE;\n",
              "      border: none;\n",
              "      border-radius: 50%;\n",
              "      cursor: pointer;\n",
              "      display: none;\n",
              "      fill: #1967D2;\n",
              "      height: 32px;\n",
              "      padding: 0 0 0 0;\n",
              "      width: 32px;\n",
              "    }\n",
              "\n",
              "    .colab-df-convert:hover {\n",
              "      background-color: #E2EBFA;\n",
              "      box-shadow: 0px 1px 2px rgba(60, 64, 67, 0.3), 0px 1px 3px 1px rgba(60, 64, 67, 0.15);\n",
              "      fill: #174EA6;\n",
              "    }\n",
              "\n",
              "    [theme=dark] .colab-df-convert {\n",
              "      background-color: #3B4455;\n",
              "      fill: #D2E3FC;\n",
              "    }\n",
              "\n",
              "    [theme=dark] .colab-df-convert:hover {\n",
              "      background-color: #434B5C;\n",
              "      box-shadow: 0px 1px 3px 1px rgba(0, 0, 0, 0.15);\n",
              "      filter: drop-shadow(0px 1px 2px rgba(0, 0, 0, 0.3));\n",
              "      fill: #FFFFFF;\n",
              "    }\n",
              "  </style>\n",
              "\n",
              "      <script>\n",
              "        const buttonEl =\n",
              "          document.querySelector('#df-efe0a59f-11a4-495b-9a72-2faf01aac766 button.colab-df-convert');\n",
              "        buttonEl.style.display =\n",
              "          google.colab.kernel.accessAllowed ? 'block' : 'none';\n",
              "\n",
              "        async function convertToInteractive(key) {\n",
              "          const element = document.querySelector('#df-efe0a59f-11a4-495b-9a72-2faf01aac766');\n",
              "          const dataTable =\n",
              "            await google.colab.kernel.invokeFunction('convertToInteractive',\n",
              "                                                     [key], {});\n",
              "          if (!dataTable) return;\n",
              "\n",
              "          const docLinkHtml = 'Like what you see? Visit the ' +\n",
              "            '<a target=\"_blank\" href=https://colab.research.google.com/notebooks/data_table.ipynb>data table notebook</a>'\n",
              "            + ' to learn more about interactive tables.';\n",
              "          element.innerHTML = '';\n",
              "          dataTable['output_type'] = 'display_data';\n",
              "          await google.colab.output.renderOutput(dataTable, element);\n",
              "          const docLink = document.createElement('div');\n",
              "          docLink.innerHTML = docLinkHtml;\n",
              "          element.appendChild(docLink);\n",
              "        }\n",
              "      </script>\n",
              "    </div>\n",
              "  </div>\n",
              "  "
            ],
            "text/plain": [
              "           Genre                                               Poem\n",
              "0          Music  A woman walks by the bench I’m sitting onwith ...\n",
              "1          Music  Because I am a boy, the untouchability of beau...\n",
              "2          Music  Because today we did not leave this world,We n...\n",
              "3          Music  Big Bend has been here, been here. Shouldn’t i...\n",
              "4          Music  I put shells there, along the lip of the road....\n",
              "..           ...                                                ...\n",
              "145  Environment  To pick a tulip from the garden, the red one. ...\n",
              "146  Environment  We are as clouds that veil the midnight moon; ...\n",
              "147  Environment  When pulled, the spider web took another form....\n",
              "148  Environment  Whose woods these are I think I know. His hous...\n",
              "149  Environment  you can make the maples blazejust by stopping ...\n",
              "\n",
              "[150 rows x 2 columns]"
            ]
          },
          "metadata": {},
          "output_type": "display_data"
        }
      ],
      "source": [
        "display(df_train)\n",
        "display(df_test)"
      ]
    },
    {
      "cell_type": "code",
      "execution_count": 12,
      "metadata": {
        "colab": {
          "base_uri": "https://localhost:8080/"
        },
        "id": "1h-x2yRDN64Y",
        "outputId": "fcfaaca2-691d-4fd4-c94a-e81174ae76f7"
      },
      "outputs": [
        {
          "data": {
            "text/plain": [
              "Music          238\n",
              "Death          231\n",
              "Environment    227\n",
              "Affection      141\n",
              "Name: Genre, dtype: int64"
            ]
          },
          "execution_count": 12,
          "metadata": {},
          "output_type": "execute_result"
        }
      ],
      "source": [
        "df_train.Genre.value_counts()\n"
      ]
    },
    {
      "cell_type": "code",
      "execution_count": 13,
      "metadata": {
        "colab": {
          "base_uri": "https://localhost:8080/"
        },
        "id": "xrs2HZrAN64Y",
        "outputId": "93cdee83-e1c7-4fa7-dad9-76c6c4357122"
      },
      "outputs": [
        {
          "data": {
            "text/plain": [
              "Affection      100\n",
              "Environment     25\n",
              "Death           13\n",
              "Music           12\n",
              "Name: Genre, dtype: int64"
            ]
          },
          "execution_count": 13,
          "metadata": {},
          "output_type": "execute_result"
        }
      ],
      "source": [
        "df_test.Genre.value_counts()"
      ]
    },
    {
      "cell_type": "code",
      "execution_count": 14,
      "metadata": {
        "colab": {
          "base_uri": "https://localhost:8080/"
        },
        "id": "d6OcUT4jN64Z",
        "outputId": "f2e00fb8-81ab-4940-95de-5b39c9ed04f7"
      },
      "outputs": [
        {
          "data": {
            "text/plain": [
              "1                    In the thick brushthey spend the...\n",
              "2         Storms are generous.                       ...\n",
              "3       —After Ana Mendieta Did you carry around the ...\n",
              "4       for Aja Sherrard at 20The portent may itself ...\n",
              "5       for Bob Marley, Bavaria, November 1980 Here i...\n",
              "                             ...                        \n",
              "836    Why make so much of fragmentary blue In here a...\n",
              "837    Woman, I wish I didn't know your name. What co...\n",
              "838    Yonder to the kiosk, beside the creek, Paddle ...\n",
              "839    You come to fetch me from my work to-night Whe...\n",
              "840    You see them through water and glass, (both li...\n",
              "Name: Poem, Length: 837, dtype: object"
            ]
          },
          "execution_count": 14,
          "metadata": {},
          "output_type": "execute_result"
        }
      ],
      "source": [
        "X_train = df_train['Poem']\n",
        "X_train"
      ]
    },
    {
      "cell_type": "code",
      "execution_count": 15,
      "metadata": {
        "colab": {
          "base_uri": "https://localhost:8080/"
        },
        "id": "ddUxnUy-N64Z",
        "outputId": "2cedb242-5229-428d-fcd3-d537ffc0672e"
      },
      "outputs": [
        {
          "data": {
            "text/plain": [
              "1            Music\n",
              "2            Music\n",
              "3            Music\n",
              "4            Music\n",
              "5            Music\n",
              "          ...     \n",
              "836    Environment\n",
              "837    Environment\n",
              "838    Environment\n",
              "839    Environment\n",
              "840    Environment\n",
              "Name: Genre, Length: 837, dtype: object"
            ]
          },
          "execution_count": 15,
          "metadata": {},
          "output_type": "execute_result"
        }
      ],
      "source": [
        "y_train = df_train['Genre']\n",
        "y_train"
      ]
    },
    {
      "cell_type": "code",
      "execution_count": 16,
      "metadata": {
        "colab": {
          "base_uri": "https://localhost:8080/"
        },
        "id": "ivxkUcGPN64a",
        "outputId": "8fd73c21-8a6c-4492-d73a-787c06e9fe5f"
      },
      "outputs": [
        {
          "data": {
            "text/plain": [
              "0      A woman walks by the bench I’m sitting onwith ...\n",
              "1      Because I am a boy, the untouchability of beau...\n",
              "2      Because today we did not leave this world,We n...\n",
              "3      Big Bend has been here, been here. Shouldn’t i...\n",
              "4      I put shells there, along the lip of the road....\n",
              "                             ...                        \n",
              "145    To pick a tulip from the garden, the red one. ...\n",
              "146    We are as clouds that veil the midnight moon; ...\n",
              "147    When pulled, the spider web took another form....\n",
              "148    Whose woods these are I think I know. His hous...\n",
              "149    you can make the maples blazejust by stopping ...\n",
              "Name: Poem, Length: 150, dtype: object"
            ]
          },
          "execution_count": 16,
          "metadata": {},
          "output_type": "execute_result"
        }
      ],
      "source": [
        "X_test = df_test[\"Poem\"]\n",
        "X_test"
      ]
    },
    {
      "cell_type": "code",
      "execution_count": 17,
      "metadata": {
        "colab": {
          "base_uri": "https://localhost:8080/"
        },
        "id": "C6V227gQN64a",
        "outputId": "f9f7f48f-8232-4272-ee11-c9011ee12c0b"
      },
      "outputs": [
        {
          "data": {
            "text/plain": [
              "0            Music\n",
              "1            Music\n",
              "2            Music\n",
              "3            Music\n",
              "4            Music\n",
              "          ...     \n",
              "145    Environment\n",
              "146    Environment\n",
              "147    Environment\n",
              "148    Environment\n",
              "149    Environment\n",
              "Name: Genre, Length: 150, dtype: object"
            ]
          },
          "execution_count": 17,
          "metadata": {},
          "output_type": "execute_result"
        }
      ],
      "source": [
        "y_test = df_test['Genre']\n",
        "y_test"
      ]
    },
    {
      "cell_type": "code",
      "execution_count": 18,
      "metadata": {
        "colab": {
          "base_uri": "https://localhost:8080/"
        },
        "id": "1zkoQpbcN64b",
        "outputId": "5be7e510-2dae-4312-b5c3-be418d42c396"
      },
      "outputs": [
        {
          "data": {
            "text/plain": [
              "((837, 8169), (150, 8169))"
            ]
          },
          "execution_count": 18,
          "metadata": {},
          "output_type": "execute_result"
        }
      ],
      "source": [
        "from sklearn.feature_extraction.text import CountVectorizer\n",
        "\n",
        "count_vector = CountVectorizer(stop_words='english', max_df=100) \n",
        "\n",
        "count_vector.fit(X_train)\n",
        "X_train_count_vector = count_vector.transform(X_train)\n",
        "X_test_count_vector = count_vector.transform(X_test)\n",
        "\n",
        "X_train_count_vector.shape, X_test_count_vector.shape"
      ]
    },
    {
      "cell_type": "code",
      "execution_count": 19,
      "metadata": {
        "colab": {
          "base_uri": "https://localhost:8080/"
        },
        "id": "U1xP2FL0N64c",
        "outputId": "c268695d-1633-40a3-cb72-efc11c895070"
      },
      "outputs": [
        {
          "data": {
            "text/plain": [
              "(<837x8169 sparse matrix of type '<class 'numpy.int64'>'\n",
              " \twith 18814 stored elements in Compressed Sparse Row format>,\n",
              " <150x8169 sparse matrix of type '<class 'numpy.int64'>'\n",
              " \twith 2522 stored elements in Compressed Sparse Row format>)"
            ]
          },
          "execution_count": 19,
          "metadata": {},
          "output_type": "execute_result"
        }
      ],
      "source": [
        "X_train_count_vector, X_test_count_vector"
      ]
    },
    {
      "cell_type": "markdown",
      "metadata": {
        "id": "CSk0eC4CN64c"
      },
      "source": [
        "###Baseline Models"
      ]
    },
    {
      "cell_type": "markdown",
      "metadata": {
        "id": "xqMp-efadNxm"
      },
      "source": [
        "# Logistic Regression"
      ]
    },
    {
      "cell_type": "code",
      "execution_count": 25,
      "metadata": {
        "colab": {
          "base_uri": "https://localhost:8080/"
        },
        "id": "Cdobk3SUPckw",
        "outputId": "46c0e328-5489-42a7-f585-095e9eb6aafb"
      },
      "outputs": [
        {
          "data": {
            "text/plain": [
              "0.34"
            ]
          },
          "execution_count": 25,
          "metadata": {},
          "output_type": "execute_result"
        }
      ],
      "source": [
        "from sklearn.pipeline import Pipeline\n",
        "from sklearn.linear_model import LogisticRegression\n",
        "from sklearn.metrics import accuracy_score\n",
        "from sklearn.metrics import classification_report\n",
        "\n",
        "\n",
        "lr_clf = LogisticRegression(max_iter=5000)\n",
        "\n",
        "pipeline = Pipeline([('count_vector', CountVectorizer(stop_words='english', max_df=100)),\n",
        "                    ('lr_clf', LogisticRegression())])\n",
        "\n",
        "pipeline.fit(X_train, y_train)\n",
        "pred = pipeline.predict(X_test)\n",
        "\n",
        "accuracy_score(y_test, pred)"
      ]
    },
    {
      "cell_type": "code",
      "execution_count": 26,
      "metadata": {
        "colab": {
          "base_uri": "https://localhost:8080/"
        },
        "id": "UDtD7wweQHgN",
        "outputId": "4a217c69-3a6e-4aad-a4a8-3131a628e8c0"
      },
      "outputs": [
        {
          "name": "stdout",
          "output_type": "stream",
          "text": [
            "              precision    recall  f1-score   support\n",
            "\n",
            "   Affection       0.89      0.25      0.39       100\n",
            "       Death       0.09      0.23      0.13        13\n",
            " Environment       0.33      0.56      0.41        25\n",
            "       Music       0.19      0.75      0.31        12\n",
            "\n",
            "    accuracy                           0.34       150\n",
            "   macro avg       0.38      0.45      0.31       150\n",
            "weighted avg       0.67      0.34      0.37       150\n",
            "\n"
          ]
        }
      ],
      "source": [
        "print(classification_report(y_test, pred))"
      ]
    },
    {
      "cell_type": "code",
      "execution_count": 27,
      "metadata": {
        "colab": {
          "base_uri": "https://localhost:8080/",
          "height": 519
        },
        "id": "zEXMkpBRP1aw",
        "outputId": "6aa75938-129c-4099-8b56-29533bbf41a1"
      },
      "outputs": [
        {
          "data": {
            "image/png": "[encoded data removed]",
            "text/plain": [
              "<Figure size 576x576 with 1 Axes>"
            ]
          },
          "metadata": {
            "needs_background": "light"
          },
          "output_type": "display_data"
        }
      ],
      "source": [
        "import seaborn as sns\n",
        "from sklearn import metrics\n",
        "\n",
        "fig,ax=plt.subplots(figsize=(8,8))\n",
        "sns.heatmap(metrics.confusion_matrix(y_test, pred),annot=True,cbar=False,fmt='d',cmap='Reds')\n",
        "ax.set_ylabel('True label',fontsize=14)\n",
        "ax.set_xlabel('Predicted label',fontsize=14)\n",
        "ax.set_title('Confusion matrix: Train set prediction',fontsize=16);"
      ]
    },
    {
      "cell_type": "markdown",
      "metadata": {
        "id": "63k83SbRdV5w"
      },
      "source": [
        "# SVM"
      ]
    },
    {
      "cell_type": "code",
      "execution_count": 29,
      "metadata": {
        "colab": {
          "base_uri": "https://localhost:8080/"
        },
        "id": "b6hlztkmN64i",
        "outputId": "d1f03859-13c1-4a18-cfef-03b5764b3e3c"
      },
      "outputs": [
        {
          "data": {
            "text/plain": [
              "0.3333333333333333"
            ]
          },
          "execution_count": 29,
          "metadata": {},
          "output_type": "execute_result"
        }
      ],
      "source": [
        "from sklearn.svm import SVC\n",
        "\n",
        "linearsvc = SVC()\n",
        "\n",
        "pipeline = Pipeline([('count_vector', CountVectorizer(stop_words='english', max_df=100)),\n",
        "                    ('linearsvc', SVC(kernel='linear'))])\n",
        "\n",
        "pipeline.fit(X_train, y_train)\n",
        "pred = pipeline.predict(X_test)\n",
        "\n",
        "accuracy_score(y_test, pred)"
      ]
    },
    {
      "cell_type": "code",
      "execution_count": 31,
      "metadata": {
        "colab": {
          "base_uri": "https://localhost:8080/"
        },
        "id": "9sHAf3atQlmw",
        "outputId": "5cafb701-fbb8-45d8-f2cd-39a6a7df5b00"
      },
      "outputs": [
        {
          "name": "stdout",
          "output_type": "stream",
          "text": [
            "              precision    recall  f1-score   support\n",
            "\n",
            "   Affection       0.88      0.30      0.45       100\n",
            "       Death       0.09      0.23      0.13        13\n",
            " Environment       0.27      0.40      0.32        25\n",
            "       Music       0.15      0.58      0.24        12\n",
            "\n",
            "    accuracy                           0.33       150\n",
            "   macro avg       0.35      0.38      0.29       150\n",
            "weighted avg       0.65      0.33      0.38       150\n",
            "\n"
          ]
        }
      ],
      "source": [
        "print(classification_report(y_test, pred))"
      ]
    },
    {
      "cell_type": "code",
      "execution_count": 30,
      "metadata": {
        "colab": {
          "base_uri": "https://localhost:8080/",
          "height": 519
        },
        "id": "M92qT03KOwuq",
        "outputId": "2d3e0fae-65af-4eb1-cc00-f49a60e10d57"
      },
      "outputs": [
        {
          "data": {
            "image/png": "[encoded data removed]",
            "text/plain": [
              "<Figure size 576x576 with 1 Axes>"
            ]
          },
          "metadata": {
            "needs_background": "light"
          },
          "output_type": "display_data"
        }
      ],
      "source": [
        "import seaborn as sns\n",
        "from sklearn import metrics\n",
        "\n",
        "fig,ax=plt.subplots(figsize=(8,8))\n",
        "sns.heatmap(metrics.confusion_matrix(y_test, pred),annot=True,cbar=False,fmt='d',cmap='Reds')\n",
        "ax.set_ylabel('True label',fontsize=14)\n",
        "ax.set_xlabel('Predicted label',fontsize=14)\n",
        "ax.set_title('Confusion matrix: Train set prediction',fontsize=16);"
      ]
    },
    {
      "cell_type": "markdown",
      "metadata": {
        "id": "tksyW99rd8FC"
      },
      "source": [
        "# MNB"
      ]
    },
    {
      "cell_type": "code",
      "execution_count": 32,
      "metadata": {
        "colab": {
          "base_uri": "https://localhost:8080/"
        },
        "id": "tkX3pBp8N64i",
        "outputId": "a73e045e-0f27-414c-c855-3eaec38a7555"
      },
      "outputs": [
        {
          "data": {
            "text/plain": [
              "0.2866666666666667"
            ]
          },
          "execution_count": 32,
          "metadata": {},
          "output_type": "execute_result"
        }
      ],
      "source": [
        "from sklearn.naive_bayes import MultinomialNB\n",
        "\n",
        "mnb = MultinomialNB()\n",
        "\n",
        "pipeline = Pipeline([('count_vector', CountVectorizer(stop_words='english', max_df=100)),\n",
        "                    ('mnb', MultinomialNB())])\n",
        "\n",
        "pipeline.fit(X_train, y_train)\n",
        "pred = pipeline.predict(X_test)\n",
        "\n",
        "accuracy_score(y_test, pred)"
      ]
    },
    {
      "cell_type": "code",
      "execution_count": 33,
      "metadata": {
        "colab": {
          "base_uri": "https://localhost:8080/"
        },
        "id": "Rl_gT1UTQw7u",
        "outputId": "2dd4d981-bcf0-4932-ffed-b6254a31ed5d"
      },
      "outputs": [
        {
          "name": "stdout",
          "output_type": "stream",
          "text": [
            "              precision    recall  f1-score   support\n",
            "\n",
            "   Affection       0.83      0.20      0.32       100\n",
            "       Death       0.09      0.31      0.13        13\n",
            " Environment       0.30      0.56      0.39        25\n",
            "       Music       0.16      0.42      0.23        12\n",
            "\n",
            "    accuracy                           0.29       150\n",
            "   macro avg       0.34      0.37      0.27       150\n",
            "weighted avg       0.63      0.29      0.31       150\n",
            "\n"
          ]
        }
      ],
      "source": [
        "print(classification_report(y_test, pred))"
      ]
    },
    {
      "cell_type": "code",
      "execution_count": 34,
      "metadata": {
        "colab": {
          "base_uri": "https://localhost:8080/",
          "height": 519
        },
        "id": "9UVa4isIO1Sr",
        "outputId": "287750ea-2acc-4fc2-bb2e-b1c47f2d628d"
      },
      "outputs": [
        {
          "data": {
            "image/png": "[encoded data removed]",
            "text/plain": [
              "<Figure size 576x576 with 1 Axes>"
            ]
          },
          "metadata": {
            "needs_background": "light"
          },
          "output_type": "display_data"
        }
      ],
      "source": [
        "import seaborn as sns\n",
        "from sklearn import metrics\n",
        "\n",
        "fig,ax=plt.subplots(figsize=(8,8))\n",
        "sns.heatmap(metrics.confusion_matrix(y_test, pred),annot=True,cbar=False,fmt='d',cmap='Reds')\n",
        "ax.set_ylabel('True label',fontsize=14)\n",
        "ax.set_xlabel('Predicted label',fontsize=14)\n",
        "ax.set_title('Confusion matrix: Train set prediction',fontsize=16);"
      ]
    },
    {
      "cell_type": "markdown",
      "metadata": {
        "id": "PPuMhct3eAwW"
      },
      "source": [
        "# MLP"
      ]
    },
    {
      "cell_type": "code",
      "execution_count": 35,
      "metadata": {
        "colab": {
          "base_uri": "https://localhost:8080/"
        },
        "id": "ekEhz6BZN64j",
        "outputId": "1e2be882-ff83-4038-e8c8-bc4ceccb3f2f"
      },
      "outputs": [
        {
          "data": {
            "text/plain": [
              "0.31333333333333335"
            ]
          },
          "execution_count": 35,
          "metadata": {},
          "output_type": "execute_result"
        }
      ],
      "source": [
        "from sklearn.neural_network import MLPClassifier\n",
        "\n",
        "mlp = MLPClassifier(hidden_layer_sizes=(10,10,10), max_iter=5000, random_state=2211)\n",
        "\n",
        "pipeline = Pipeline([('count_vector', CountVectorizer(stop_words='english', max_df=100)),\n",
        "                    ('mlp', MLPClassifier(hidden_layer_sizes=(10,10,10), max_iter=5000, random_state=2211))])\n",
        "\n",
        "pipeline.fit(X_train, y_train)\n",
        "pred = pipeline.predict(X_test)\n",
        "\n",
        "accuracy_score(y_test, pred)"
      ]
    },
    {
      "cell_type": "code",
      "execution_count": 37,
      "metadata": {
        "colab": {
          "base_uri": "https://localhost:8080/"
        },
        "id": "1gpqU8XRQ6JA",
        "outputId": "499df052-38ae-4b47-d04b-ab0b46fe28a7"
      },
      "outputs": [
        {
          "name": "stdout",
          "output_type": "stream",
          "text": [
            "              precision    recall  f1-score   support\n",
            "\n",
            "   Affection       0.84      0.27      0.41       100\n",
            "       Death       0.07      0.31      0.12        13\n",
            " Environment       0.33      0.52      0.40        25\n",
            "       Music       0.12      0.25      0.17        12\n",
            "\n",
            "    accuracy                           0.31       150\n",
            "   macro avg       0.34      0.34      0.27       150\n",
            "weighted avg       0.63      0.31      0.36       150\n",
            "\n"
          ]
        }
      ],
      "source": [
        "print(classification_report(y_test, pred))"
      ]
    },
    {
      "cell_type": "code",
      "execution_count": 38,
      "metadata": {
        "colab": {
          "base_uri": "https://localhost:8080/",
          "height": 519
        },
        "id": "metkvDq4O2SL",
        "outputId": "5af6e359-2df3-46f2-e984-2f1edd4193b5"
      },
      "outputs": [
        {
          "data": {
            "image/png": "[encoded data removed]",
            "text/plain": [
              "<Figure size 576x576 with 1 Axes>"
            ]
          },
          "metadata": {
            "needs_background": "light"
          },
          "output_type": "display_data"
        }
      ],
      "source": [
        "import seaborn as sns\n",
        "from sklearn import metrics\n",
        "\n",
        "fig,ax=plt.subplots(figsize=(8,8))\n",
        "sns.heatmap(metrics.confusion_matrix(y_test, pred),annot=True,cbar=False,fmt='d',cmap='Reds')\n",
        "ax.set_ylabel('True label',fontsize=14)\n",
        "ax.set_xlabel('Predicted label',fontsize=14)\n",
        "ax.set_title('Confusion matrix: Train set prediction',fontsize=16);"
      ]
    },
    {
      "cell_type": "code",
      "execution_count": null,
      "metadata": {
        "colab": {
          "base_uri": "https://localhost:8080/"
        },
        "id": "aijhvOTkmy5U",
        "outputId": "89690cfc-0efd-4fa5-9e47-d307380a688c"
      },
      "outputs": [
        {
          "name": "stdout",
          "output_type": "stream",
          "text": [
            "Mounted at /content/drive\n"
          ]
        }
      ],
      "source": [
        "from google.colab import drive\n",
        "drive.mount('/content/drive')"
      ]
    },
    {
      "cell_type": "markdown",
      "metadata": {
        "id": "kRWdmv6BWGsP"
      },
      "source": [
        "# RoBERTa"
      ]
    },
    {
      "cell_type": "code",
      "execution_count": null,
      "metadata": {
        "colab": {
          "base_uri": "https://localhost:8080/"
        },
        "id": "qOigcu9OnYW7",
        "outputId": "487641ba-67ab-4e44-a801-7b9a833f9118"
      },
      "outputs": [
        {
          "name": "stdout",
          "output_type": "stream",
          "text": [
            "Looking in indexes: https://pypi.org/simple, https://us-python.pkg.dev/colab-wheels/public/simple/\n",
            "Collecting sentence-transformers\n",
            "  Downloading sentence-transformers-2.2.2.tar.gz (85 kB)\n",
            "\u001b[K     |████████████████████████████████| 85 kB 2.8 MB/s \n",
            "\u001b[?25hCollecting transformers<5.0.0,>=4.6.0\n",
            "  Downloading transformers-4.25.1-py3-none-any.whl (5.8 MB)\n",
            "\u001b[K     |████████████████████████████████| 5.8 MB 41.0 MB/s \n",
            "\u001b[?25hRequirement already satisfied: tqdm in /usr/local/lib/python3.8/dist-packages (from sentence-transformers) (4.64.1)\n",
            "Requirement already satisfied: torch>=1.6.0 in /usr/local/lib/python3.8/dist-packages (from sentence-transformers) (1.13.0+cu116)\n",
            "Requirement already satisfied: torchvision in /usr/local/lib/python3.8/dist-packages (from sentence-transformers) (0.14.0+cu116)\n",
            "Requirement already satisfied: numpy in /usr/local/lib/python3.8/dist-packages (from sentence-transformers) (1.21.6)\n",
            "Requirement already satisfied: scikit-learn in /usr/local/lib/python3.8/dist-packages (from sentence-transformers) (1.0.2)\n",
            "Requirement already satisfied: scipy in /usr/local/lib/python3.8/dist-packages (from sentence-transformers) (1.7.3)\n",
            "Requirement already satisfied: nltk in /usr/local/lib/python3.8/dist-packages (from sentence-transformers) (3.7)\n",
            "Collecting sentencepiece\n",
            "  Downloading sentencepiece-0.1.97-cp38-cp38-manylinux_2_17_x86_64.manylinux2014_x86_64.whl (1.3 MB)\n",
            "\u001b[K     |████████████████████████████████| 1.3 MB 52.2 MB/s \n",
            "\u001b[?25hCollecting huggingface-hub>=0.4.0\n",
            "  Downloading huggingface_hub-0.11.1-py3-none-any.whl (182 kB)\n",
            "\u001b[K     |████████████████████████████████| 182 kB 50.3 MB/s \n",
            "\u001b[?25hRequirement already satisfied: packaging>=20.9 in /usr/local/lib/python3.8/dist-packages (from huggingface-hub>=0.4.0->sentence-transformers) (21.3)\n",
            "Requirement already satisfied: requests in /usr/local/lib/python3.8/dist-packages (from huggingface-hub>=0.4.0->sentence-transformers) (2.23.0)\n",
            "Requirement already satisfied: typing-extensions>=3.7.4.3 in /usr/local/lib/python3.8/dist-packages (from huggingface-hub>=0.4.0->sentence-transformers) (4.4.0)\n",
            "Requirement already satisfied: pyyaml>=5.1 in /usr/local/lib/python3.8/dist-packages (from huggingface-hub>=0.4.0->sentence-transformers) (6.0)\n",
            "Requirement already satisfied: filelock in /usr/local/lib/python3.8/dist-packages (from huggingface-hub>=0.4.0->sentence-transformers) (3.8.2)\n",
            "Requirement already satisfied: pyparsing!=3.0.5,>=2.0.2 in /usr/local/lib/python3.8/dist-packages (from packaging>=20.9->huggingface-hub>=0.4.0->sentence-transformers) (3.0.9)\n",
            "Requirement already satisfied: regex!=2019.12.17 in /usr/local/lib/python3.8/dist-packages (from transformers<5.0.0,>=4.6.0->sentence-transformers) (2022.6.2)\n",
            "Collecting tokenizers!=0.11.3,<0.14,>=0.11.1\n",
            "  Downloading tokenizers-0.13.2-cp38-cp38-manylinux_2_17_x86_64.manylinux2014_x86_64.whl (7.6 MB)\n",
            "\u001b[K     |████████████████████████████████| 7.6 MB 44.6 MB/s \n",
            "\u001b[?25hRequirement already satisfied: joblib in /usr/local/lib/python3.8/dist-packages (from nltk->sentence-transformers) (1.2.0)\n",
            "Requirement already satisfied: click in /usr/local/lib/python3.8/dist-packages (from nltk->sentence-transformers) (7.1.2)\n",
            "Requirement already satisfied: idna<3,>=2.5 in /usr/local/lib/python3.8/dist-packages (from requests->huggingface-hub>=0.4.0->sentence-transformers) (2.10)\n",
            "Requirement already satisfied: urllib3!=1.25.0,!=1.25.1,<1.26,>=1.21.1 in /usr/local/lib/python3.8/dist-packages (from requests->huggingface-hub>=0.4.0->sentence-transformers) (1.24.3)\n",
            "Requirement already satisfied: chardet<4,>=3.0.2 in /usr/local/lib/python3.8/dist-packages (from requests->huggingface-hub>=0.4.0->sentence-transformers) (3.0.4)\n",
            "Requirement already satisfied: certifi>=2017.4.17 in /usr/local/lib/python3.8/dist-packages (from requests->huggingface-hub>=0.4.0->sentence-transformers) (2022.12.7)\n",
            "Requirement already satisfied: threadpoolctl>=2.0.0 in /usr/local/lib/python3.8/dist-packages (from scikit-learn->sentence-transformers) (3.1.0)\n",
            "Requirement already satisfied: pillow!=8.3.*,>=5.3.0 in /usr/local/lib/python3.8/dist-packages (from torchvision->sentence-transformers) (7.1.2)\n",
            "Building wheels for collected packages: sentence-transformers\n",
            "  Building wheel for sentence-transformers (setup.py) ... \u001b[?25l\u001b[?25hdone\n",
            "  Created wheel for sentence-transformers: filename=sentence_transformers-2.2.2-py3-none-any.whl size=125938 sha256=e6e2b4b6daeef42a998824f0af6f4f8897f6c7be6f203ebedfcadd5615981f7e\n",
            "  Stored in directory: /root/.cache/pip/wheels/5e/6f/8c/d88aec621f3f542d26fac0342bef5e693335d125f4e54aeffe\n",
            "Successfully built sentence-transformers\n",
            "Installing collected packages: tokenizers, huggingface-hub, transformers, sentencepiece, sentence-transformers\n",
            "Successfully installed huggingface-hub-0.11.1 sentence-transformers-2.2.2 sentencepiece-0.1.97 tokenizers-0.13.2 transformers-4.25.1\n"
          ]
        }
      ],
      "source": [
        "pip install -U sentence-transformers"
      ]
    },
    {
      "cell_type": "code",
      "execution_count": null,
      "metadata": {
        "_cell_guid": "b1076dfc-b9ad-4769-8c92-a6c4dae69d19",
        "_uuid": "8f2839f25d086af736a60e9eeb907d3b93b6e0e5",
        "execution": {
          "iopub.execute_input": "2022-10-22T09:35:33.307302Z",
          "iopub.status.busy": "2022-10-22T09:35:33.306485Z",
          "iopub.status.idle": "2022-10-22T09:35:44.069103Z",
          "shell.execute_reply": "2022-10-22T09:35:44.067921Z"
        },
        "id": "56cf481f",
        "papermill": {
          "duration": 10.774338,
          "end_time": "2022-10-22T09:35:44.072928",
          "exception": false,
          "start_time": "2022-10-22T09:35:33.298590",
          "status": "completed"
        },
        "tags": []
      },
      "outputs": [],
      "source": [
        "import random\n",
        "import numpy as np\n",
        "import pandas as pd\n",
        "import tensorflow as tf\n",
        "from tensorflow.keras.layers import Input, Dense\n",
        "from tensorflow.keras.callbacks import EarlyStopping, ModelCheckpoint\n",
        "import transformers\n",
        "from transformers import RobertaTokenizer, TFRobertaModel\n",
        "transformers.logging.set_verbosity_error()\n",
        "import re\n",
        "pd.set_option(\"display.max_columns\", None)"
      ]
    },
    {
      "cell_type": "code",
      "execution_count": null,
      "metadata": {
        "colab": {
          "base_uri": "https://localhost:8080/",
          "height": 364
        },
        "execution": {
          "iopub.execute_input": "2022-10-22T09:35:44.088896Z",
          "iopub.status.busy": "2022-10-22T09:35:44.087614Z",
          "iopub.status.idle": "2022-10-22T09:35:44.179165Z",
          "shell.execute_reply": "2022-10-22T09:35:44.177865Z"
        },
        "id": "abc28b60",
        "outputId": "46c51e91-8b35-4f1b-8693-7adb7cc03571",
        "papermill": {
          "duration": 0.102269,
          "end_time": "2022-10-22T09:35:44.181973",
          "exception": false,
          "start_time": "2022-10-22T09:35:44.079704",
          "status": "completed"
        },
        "tags": []
      },
      "outputs": [
        {
          "name": "stdout",
          "output_type": "stream",
          "text": [
            "<class 'pandas.core.frame.DataFrame'>\n",
            "RangeIndex: 841 entries, 0 to 840\n",
            "Data columns (total 2 columns):\n",
            " #   Column  Non-Null Count  Dtype \n",
            "---  ------  --------------  ----- \n",
            " 0   Genre   841 non-null    object\n",
            " 1   Poem    837 non-null    object\n",
            "dtypes: object(2)\n",
            "memory usage: 13.3+ KB\n"
          ]
        },
        {
          "data": {
            "text/plain": [
              "None"
            ]
          },
          "metadata": {},
          "output_type": "display_data"
        },
        {
          "name": "stdout",
          "output_type": "stream",
          "text": [
            "<class 'pandas.core.frame.DataFrame'>\n",
            "RangeIndex: 150 entries, 0 to 149\n",
            "Data columns (total 2 columns):\n",
            " #   Column  Non-Null Count  Dtype \n",
            "---  ------  --------------  ----- \n",
            " 0   Genre   150 non-null    object\n",
            " 1   Poem    150 non-null    object\n",
            "dtypes: object(2)\n",
            "memory usage: 2.5+ KB\n"
          ]
        },
        {
          "data": {
            "text/plain": [
              "None"
            ]
          },
          "metadata": {},
          "output_type": "display_data"
        }
      ],
      "source": [
        "# train_df=pd.read_csv('/content/drive/MyDrive/NLP_Final_Project/Poem_classification - train_data.csv')\n",
        "# test_df=pd.read_csv('/content/drive/MyDrive/NLP_Final_Project/Poem_classification - test_data.csv')\n",
        "display(train_df.info())\n",
        "display(test_df.info())\n",
        "train_df=train_df.dropna()"
      ]
    },
    {
      "cell_type": "code",
      "execution_count": null,
      "metadata": {
        "colab": {
          "base_uri": "https://localhost:8080/"
        },
        "execution": {
          "iopub.execute_input": "2022-10-22T09:35:44.197389Z",
          "iopub.status.busy": "2022-10-22T09:35:44.196155Z",
          "iopub.status.idle": "2022-10-22T09:35:44.208813Z",
          "shell.execute_reply": "2022-10-22T09:35:44.207488Z"
        },
        "id": "4d1c765a",
        "outputId": "6cc0c39c-8789-47e6-c7aa-a0dd85b53905",
        "papermill": {
          "duration": 0.023812,
          "end_time": "2022-10-22T09:35:44.212158",
          "exception": false,
          "start_time": "2022-10-22T09:35:44.188346",
          "status": "completed"
        },
        "tags": []
      },
      "outputs": [
        {
          "name": "stdout",
          "output_type": "stream",
          "text": [
            "{'Affection': 0, 'Death': 1, 'Environment': 2, 'Music': 3}\n"
          ]
        }
      ],
      "source": [
        "Name0=train_df['Genre'].unique().tolist()\n",
        "Name=sorted(Name0)\n",
        "N=list(range(len(Name)))\n",
        "normal_mapping=dict(zip(Name,N)) \n",
        "reverse_mapping=dict(zip(N,Name)) \n",
        "print(normal_mapping)\n",
        "train_df['Genre']=train_df['Genre'].map(normal_mapping)\n",
        "test_df['Genre']=test_df['Genre'].map(normal_mapping)"
      ]
    },
    {
      "cell_type": "code",
      "execution_count": null,
      "metadata": {
        "execution": {
          "iopub.execute_input": "2022-10-22T09:35:44.226886Z",
          "iopub.status.busy": "2022-10-22T09:35:44.226378Z",
          "iopub.status.idle": "2022-10-22T09:35:44.237395Z",
          "shell.execute_reply": "2022-10-22T09:35:44.236457Z"
        },
        "id": "a9cb9423",
        "papermill": {
          "duration": 0.021312,
          "end_time": "2022-10-22T09:35:44.239730",
          "exception": false,
          "start_time": "2022-10-22T09:35:44.218418",
          "status": "completed"
        },
        "tags": []
      },
      "outputs": [],
      "source": [
        "train_df['Poem'] = train_df['Poem'].replace(re.compile(r'[\\n\\r\\t]'), ' ', regex=True)\n",
        "test_df['Poem'] = test_df['Poem'].replace(re.compile(r'[\\n\\r\\t]'), ' ', regex=True)"
      ]
    },
    {
      "cell_type": "markdown",
      "metadata": {
        "id": "6425149e",
        "papermill": {
          "duration": 0.006155,
          "end_time": "2022-10-22T09:35:44.252217",
          "exception": false,
          "start_time": "2022-10-22T09:35:44.246062",
          "status": "completed"
        },
        "tags": []
      },
      "source": [
        "#Tokenize and create data"
      ]
    },
    {
      "cell_type": "code",
      "execution_count": null,
      "metadata": {
        "execution": {
          "iopub.execute_input": "2022-10-22T09:35:44.269124Z",
          "iopub.status.busy": "2022-10-22T09:35:44.268338Z",
          "iopub.status.idle": "2022-10-22T09:35:44.449367Z",
          "shell.execute_reply": "2022-10-22T09:35:44.448342Z"
        },
        "id": "c3018bde",
        "papermill": {
          "duration": 0.194068,
          "end_time": "2022-10-22T09:35:44.452432",
          "exception": false,
          "start_time": "2022-10-22T09:35:44.258364",
          "status": "completed"
        },
        "tags": []
      },
      "outputs": [],
      "source": [
        "tokenizer = RobertaTokenizer.from_pretrained(\"../input/roberta-base/\")\n",
        "max_len = 128"
      ]
    },
    {
      "cell_type": "code",
      "execution_count": null,
      "metadata": {
        "execution": {
          "iopub.execute_input": "2022-10-22T09:35:44.478735Z",
          "iopub.status.busy": "2022-10-22T09:35:44.477490Z",
          "iopub.status.idle": "2022-10-22T09:35:44.487779Z",
          "shell.execute_reply": "2022-10-22T09:35:44.486752Z"
        },
        "id": "b4dafd50",
        "papermill": {
          "duration": 0.022251,
          "end_time": "2022-10-22T09:35:44.490575",
          "exception": false,
          "start_time": "2022-10-22T09:35:44.468324",
          "status": "completed"
        },
        "tags": []
      },
      "outputs": [],
      "source": [
        "def create_data(text):\n",
        "    \n",
        "    encoded = tokenizer.batch_encode_plus(\n",
        "        text,\n",
        "        add_special_tokens = True,\n",
        "        max_length= max_len,\n",
        "        padding='max_length',\n",
        "        truncation=True,\n",
        "        return_attention_mask=True)\n",
        "\n",
        "    input_ids       = np.array(encoded[\"input_ids\"], dtype=\"int32\")\n",
        "    attention_masks = np.array(encoded[\"attention_mask\"], dtype=\"int32\")\n",
        "\n",
        "    return {\"input_ids\": input_ids, \"attention_masks\": attention_masks}"
      ]
    },
    {
      "cell_type": "code",
      "execution_count": null,
      "metadata": {
        "execution": {
          "iopub.execute_input": "2022-10-22T09:35:44.505990Z",
          "iopub.status.busy": "2022-10-22T09:35:44.505049Z",
          "iopub.status.idle": "2022-10-22T09:35:45.501583Z",
          "shell.execute_reply": "2022-10-22T09:35:45.500402Z"
        },
        "id": "e9b31063",
        "papermill": {
          "duration": 1.007697,
          "end_time": "2022-10-22T09:35:45.504640",
          "exception": false,
          "start_time": "2022-10-22T09:35:44.496943",
          "status": "completed"
        },
        "tags": []
      },
      "outputs": [],
      "source": [
        "train_data   = create_data(train_df['Poem'])"
      ]
    },
    {
      "cell_type": "code",
      "execution_count": null,
      "metadata": {
        "execution": {
          "iopub.execute_input": "2022-10-22T09:35:45.519598Z",
          "iopub.status.busy": "2022-10-22T09:35:45.519136Z",
          "iopub.status.idle": "2022-10-22T09:35:45.525231Z",
          "shell.execute_reply": "2022-10-22T09:35:45.523898Z"
        },
        "id": "3edab145",
        "papermill": {
          "duration": 0.016647,
          "end_time": "2022-10-22T09:35:45.527898",
          "exception": false,
          "start_time": "2022-10-22T09:35:45.511251",
          "status": "completed"
        },
        "tags": []
      },
      "outputs": [],
      "source": [
        "train = []\n",
        "train.append(train_df['Genre'].to_list())"
      ]
    },
    {
      "cell_type": "markdown",
      "metadata": {
        "id": "14d02002",
        "papermill": {
          "duration": 0.005834,
          "end_time": "2022-10-22T09:35:45.540193",
          "exception": false,
          "start_time": "2022-10-22T09:35:45.534359",
          "status": "completed"
        },
        "tags": []
      },
      "source": [
        "#Build Model"
      ]
    },
    {
      "cell_type": "code",
      "execution_count": null,
      "metadata": {
        "execution": {
          "iopub.execute_input": "2022-10-22T09:35:45.554879Z",
          "iopub.status.busy": "2022-10-22T09:35:45.554386Z",
          "iopub.status.idle": "2022-10-22T09:35:45.562753Z",
          "shell.execute_reply": "2022-10-22T09:35:45.561608Z"
        },
        "id": "54d8b081",
        "papermill": {
          "duration": 0.018666,
          "end_time": "2022-10-22T09:35:45.565008",
          "exception": false,
          "start_time": "2022-10-22T09:35:45.546342",
          "status": "completed"
        },
        "tags": []
      },
      "outputs": [],
      "source": [
        "def build_model():\n",
        "    \n",
        "    model_ids  = Input(shape=(max_len, ), dtype = tf.int32)\n",
        "    model_mask = Input(shape=(max_len, ), dtype = tf.int32)\n",
        "    \n",
        "    roberta_model = TFRobertaModel.from_pretrained(\"../input/roberta-base/\")\n",
        "    \n",
        "    x = roberta_model(input_ids = model_ids, \n",
        "                      attention_mask = model_mask)       \n",
        "    x = tf.keras.layers.GlobalAveragePooling1D()(x.last_hidden_state)    \n",
        "    outputs = Dense(len(Name))(x)\n",
        "    \n",
        "    model = tf.keras.Model(inputs = [model_ids, model_mask], outputs = outputs)\n",
        "    \n",
        "    model.compile(\n",
        "        optimizer = tf.keras.optimizers.Adam(),\n",
        "        loss = \"mse\",\n",
        "        metrics=[\"mse\"])\n",
        "    return model"
      ]
    },
    {
      "cell_type": "code",
      "execution_count": null,
      "metadata": {
        "execution": {
          "iopub.execute_input": "2022-10-22T09:35:45.579909Z",
          "iopub.status.busy": "2022-10-22T09:35:45.579373Z",
          "iopub.status.idle": "2022-10-22T09:35:45.585843Z",
          "shell.execute_reply": "2022-10-22T09:35:45.584745Z"
        },
        "id": "fc0b6e15",
        "papermill": {
          "duration": 0.01686,
          "end_time": "2022-10-22T09:35:45.588199",
          "exception": false,
          "start_time": "2022-10-22T09:35:45.571339",
          "status": "completed"
        },
        "tags": []
      },
      "outputs": [],
      "source": [
        "def scheduler(epoch):\n",
        "    learning_rate = 2e-5\n",
        "    if epoch == 0:\n",
        "        return learning_rate * 0.05\n",
        "    else:\n",
        "        return learning_rate * (0.9**epoch)\n",
        "    \n",
        "callback_lr = tf.keras.callbacks.LearningRateScheduler(scheduler)"
      ]
    },
    {
      "cell_type": "code",
      "execution_count": null,
      "metadata": {
        "execution": {
          "iopub.execute_input": "2022-10-22T09:35:45.604075Z",
          "iopub.status.busy": "2022-10-22T09:35:45.602624Z",
          "iopub.status.idle": "2022-10-22T09:35:45.612011Z",
          "shell.execute_reply": "2022-10-22T09:35:45.610646Z"
        },
        "id": "c82ffb09",
        "papermill": {
          "duration": 0.020017,
          "end_time": "2022-10-22T09:35:45.614690",
          "exception": false,
          "start_time": "2022-10-22T09:35:45.594673",
          "status": "completed"
        },
        "tags": []
      },
      "outputs": [],
      "source": [
        "def get_model(train_col) :\n",
        "    \n",
        "    model = build_model()\n",
        "    model.fit((np.array(train_data['input_ids']),\n",
        "               np.array(train_data['attention_masks'])),\n",
        "        np.array(train_col).ravel(), \n",
        "        epochs = 5,\n",
        "        shuffle=True,\n",
        "        callbacks = [EarlyStopping(monitor='val_mse', patience=3, restore_best_weights=True), \n",
        "                     ModelCheckpoint('roberta_uspppm.h5', monitor='val_mse', \n",
        "                                     save_best_only=True, save_weights_only=True), \n",
        "                     callback_lr],                     \n",
        "        batch_size = 16,\n",
        "        validation_split=0.2 )\n",
        "    \n",
        "    return model"
      ]
    },
    {
      "cell_type": "markdown",
      "metadata": {
        "id": "54ca3344",
        "papermill": {
          "duration": 0.006182,
          "end_time": "2022-10-22T09:35:45.627245",
          "exception": false,
          "start_time": "2022-10-22T09:35:45.621063",
          "status": "completed"
        },
        "tags": []
      },
      "source": [
        "#Get Model\n"
      ]
    },
    {
      "cell_type": "code",
      "execution_count": null,
      "metadata": {
        "execution": {
          "iopub.execute_input": "2022-10-22T09:35:45.641911Z",
          "iopub.status.busy": "2022-10-22T09:35:45.641342Z",
          "iopub.status.idle": "2022-10-22T10:17:51.243769Z",
          "shell.execute_reply": "2022-10-22T10:17:51.242358Z"
        },
        "id": "58a6cda1",
        "outputId": "241a33f2-c046-406a-c976-f88c402a1181",
        "papermill": {
          "duration": 2525.613095,
          "end_time": "2022-10-22T10:17:51.246594",
          "exception": false,
          "start_time": "2022-10-22T09:35:45.633499",
          "status": "completed"
        },
        "tags": []
      },
      "outputs": [
        {
          "name": "stdout",
          "output_type": "stream",
          "text": [
            "-------------- Model for Genre ---------------\n"
          ]
        },
        {
          "name": "stderr",
          "output_type": "stream",
          "text": [
            "2022-10-22 09:36:02.302601: I tensorflow/compiler/mlir/mlir_graph_optimization_pass.cc:185] None of the MLIR Optimization Passes are enabled (registered 2)\n"
          ]
        },
        {
          "name": "stdout",
          "output_type": "stream",
          "text": [
            "Epoch 1/5\n",
            "42/42 [==============================] - 525s 12s/step - loss: 2.2788 - mse: 2.2788 - val_loss: 1.1580 - val_mse: 1.1580\n",
            "Epoch 2/5\n",
            "42/42 [==============================] - 492s 12s/step - loss: 1.3489 - mse: 1.3489 - val_loss: 0.4046 - val_mse: 0.4046\n",
            "Epoch 3/5\n",
            "42/42 [==============================] - 492s 12s/step - loss: 1.1598 - mse: 1.1598 - val_loss: 0.3491 - val_mse: 0.3491\n",
            "Epoch 4/5\n",
            "42/42 [==============================] - 493s 12s/step - loss: 1.0419 - mse: 1.0419 - val_loss: 0.5462 - val_mse: 0.5462\n",
            "Epoch 5/5\n",
            "42/42 [==============================] - 493s 12s/step - loss: 0.8196 - mse: 0.8196 - val_loss: 0.4458 - val_mse: 0.4458\n",
            "CPU times: user 2h 32min 29s, sys: 57.9 s, total: 2h 33min 27s\n",
            "Wall time: 42min 5s\n"
          ]
        }
      ],
      "source": [
        "%%time\n",
        "\n",
        "target_cols = ['Genre']\n",
        "models = {}\n",
        "\n",
        "for i, col in enumerate(target_cols) :\n",
        "            \n",
        "    print (f\"-------------- Model for {col} ---------------\")\n",
        "    model = get_model(train[i])\n",
        "    models[i] = model"
      ]
    },
    {
      "cell_type": "markdown",
      "metadata": {
        "id": "f0d82517",
        "papermill": {
          "duration": 0.019969,
          "end_time": "2022-10-22T10:17:51.286242",
          "exception": false,
          "start_time": "2022-10-22T10:17:51.266273",
          "status": "completed"
        },
        "tags": []
      },
      "source": [
        "#Submission"
      ]
    },
    {
      "cell_type": "code",
      "execution_count": null,
      "metadata": {
        "execution": {
          "iopub.execute_input": "2022-10-22T10:17:51.329619Z",
          "iopub.status.busy": "2022-10-22T10:17:51.328225Z",
          "iopub.status.idle": "2022-10-22T10:17:51.533654Z",
          "shell.execute_reply": "2022-10-22T10:17:51.532340Z"
        },
        "id": "1c044108",
        "papermill": {
          "duration": 0.230998,
          "end_time": "2022-10-22T10:17:51.536841",
          "exception": false,
          "start_time": "2022-10-22T10:17:51.305843",
          "status": "completed"
        },
        "tags": []
      },
      "outputs": [],
      "source": [
        "test_data = create_data(test_df['Poem'])"
      ]
    },
    {
      "cell_type": "code",
      "execution_count": null,
      "metadata": {
        "execution": {
          "iopub.execute_input": "2022-10-22T10:17:51.580462Z",
          "iopub.status.busy": "2022-10-22T10:17:51.579993Z",
          "iopub.status.idle": "2022-10-22T10:18:27.684965Z",
          "shell.execute_reply": "2022-10-22T10:18:27.683661Z"
        },
        "id": "e474e3e9",
        "papermill": {
          "duration": 36.131087,
          "end_time": "2022-10-22T10:18:27.688219",
          "exception": false,
          "start_time": "2022-10-22T10:17:51.557132",
          "status": "completed"
        },
        "tags": []
      },
      "outputs": [],
      "source": [
        "preds = []\n",
        "\n",
        "for i in range(1) :\n",
        "    pred = models[i].predict((np.array(test_data['input_ids']),\n",
        "                              np.array(test_data['attention_masks'])))\n",
        "    preds.append(np.argmax(pred,axis=1))    \n",
        "    \n",
        "trues = test_df['Genre']   "
      ]
    },
    {
      "cell_type": "code",
      "execution_count": null,
      "metadata": {
        "execution": {
          "iopub.execute_input": "2022-10-22T10:18:27.731192Z",
          "iopub.status.busy": "2022-10-22T10:18:27.730683Z",
          "iopub.status.idle": "2022-10-22T10:18:27.743411Z",
          "shell.execute_reply": "2022-10-22T10:18:27.741895Z"
        },
        "id": "d167e878",
        "outputId": "da673ce5-dac0-44fb-d2e8-9f87831228ec",
        "papermill": {
          "duration": 0.037397,
          "end_time": "2022-10-22T10:18:27.746052",
          "exception": false,
          "start_time": "2022-10-22T10:18:27.708655",
          "status": "completed"
        },
        "tags": []
      },
      "outputs": [
        {
          "name": "stdout",
          "output_type": "stream",
          "text": [
            "              precision    recall  f1-score   support\n",
            "\n",
            "   Affection     0.8276    0.2400    0.3721       100\n",
            "       Death     0.1228    0.5385    0.2000        13\n",
            " Environment     0.1364    0.2400    0.1739        25\n",
            "       Music     0.1500    0.2500    0.1875        12\n",
            "\n",
            "    accuracy                         0.2667       150\n",
            "   macro avg     0.3092    0.3171    0.2334       150\n",
            "weighted avg     0.5971    0.2667    0.3094       150\n",
            "\n"
          ]
        }
      ],
      "source": [
        "from sklearn.metrics import classification_report\n",
        "print(classification_report(trues,preds[0],target_names=Name,digits=4))"
      ]
    },
    {
      "cell_type": "markdown",
      "id": "301d969b",
      "metadata": {
        "papermill": {
          "duration": 0.005572,
          "end_time": "2022-10-01T08:36:20.358760",
          "exception": false,
          "start_time": "2022-10-01T08:36:20.353188",
          "status": "completed"
        },
        "tags": []
      },
      "source": [
        "# BERT LGBM"
      ]
    },
    {
      "cell_type": "code",
      "execution_count": null,
      "id": "2f87e76f",
      "metadata": {
        "execution": {
          "iopub.execute_input": "2022-10-01T08:36:20.369515Z",
          "iopub.status.busy": "2022-10-01T08:36:20.369005Z",
          "iopub.status.idle": "2022-10-01T08:36:32.580412Z",
          "shell.execute_reply": "2022-10-01T08:36:32.579054Z"
        },
        "papermill": {
          "duration": 12.219786,
          "end_time": "2022-10-01T08:36:32.583065",
          "exception": false,
          "start_time": "2022-10-01T08:36:20.363279",
          "status": "completed"
        },
        "tags": []
      },
      "outputs": [
        {
          "name": "stdout",
          "output_type": "stream",
          "text": [
            "\u001b[33mWARNING: Running pip as the 'root' user can result in broken permissions and conflicting behaviour with the system package manager. It is recommended to use a virtual environment instead: https://pip.pypa.io/warnings/venv\u001b[0m\u001b[33m\r\n",
            "\u001b[0m"
          ]
        }
      ],
      "source": [
        "!pip install transformers > /dev/null"
      ]
    },
    {
      "cell_type": "code",
      "execution_count": null,
      "id": "5a9ae1a0",
      "metadata": {
        "execution": {
          "iopub.execute_input": "2022-10-01T08:36:32.594086Z",
          "iopub.status.busy": "2022-10-01T08:36:32.593695Z",
          "iopub.status.idle": "2022-10-01T08:36:36.318675Z",
          "shell.execute_reply": "2022-10-01T08:36:36.317737Z"
        },
        "papermill": {
          "duration": 3.733282,
          "end_time": "2022-10-01T08:36:36.321091",
          "exception": false,
          "start_time": "2022-10-01T08:36:32.587809",
          "status": "completed"
        },
        "tags": []
      },
      "outputs": [
        {
          "data": {
            "text/html": [
              "<style type='text/css'>\n",
              ".datatable table.frame { margin-bottom: 0; }\n",
              ".datatable table.frame thead { border-bottom: none; }\n",
              ".datatable table.frame tr.coltypes td {  color: #FFFFFF;  line-height: 6px;  padding: 0 0.5em;}\n",
              ".datatable .bool    { background: #DDDD99; }\n",
              ".datatable .object  { background: #565656; }\n",
              ".datatable .int     { background: #5D9E5D; }\n",
              ".datatable .float   { background: #4040CC; }\n",
              ".datatable .str     { background: #CC4040; }\n",
              ".datatable .time    { background: #40CC40; }\n",
              ".datatable .row_index {  background: var(--jp-border-color3);  border-right: 1px solid var(--jp-border-color0);  color: var(--jp-ui-font-color3);  font-size: 9px;}\n",
              ".datatable .frame tbody td { text-align: left; }\n",
              ".datatable .frame tr.coltypes .row_index {  background: var(--jp-border-color0);}\n",
              ".datatable th:nth-child(2) { padding-left: 12px; }\n",
              ".datatable .hellipsis {  color: var(--jp-cell-editor-border-color);}\n",
              ".datatable .vellipsis {  background: var(--jp-layout-color0);  color: var(--jp-cell-editor-border-color);}\n",
              ".datatable .na {  color: var(--jp-cell-editor-border-color);  font-size: 80%;}\n",
              ".datatable .sp {  opacity: 0.25;}\n",
              ".datatable .footer { font-size: 9px; }\n",
              ".datatable .frame_dimensions {  background: var(--jp-border-color3);  border-top: 1px solid var(--jp-border-color0);  color: var(--jp-ui-font-color3);  display: inline-block;  opacity: 0.6;  padding: 1px 10px 1px 5px;}\n",
              "</style>\n"
            ],
            "text/plain": [
              "<IPython.core.display.HTML object>"
            ]
          },
          "metadata": {},
          "output_type": "display_data"
        }
      ],
      "source": [
        "import sqlite3\n",
        "import pandas as pd\n",
        "import numpy as np\n",
        "import os\n",
        "import torch\n",
        "import random\n",
        "import matplotlib.pyplot as plt\n",
        "import transformers\n",
        "from transformers import BertTokenizer\n",
        "from sklearn.utils import shuffle\n",
        "from sklearn.metrics import classification_report, log_loss, accuracy_score\n",
        "from sklearn.model_selection import train_test_split\n",
        "from sklearn.model_selection import ShuffleSplit\n",
        "#from xgboost import XGBRegressor\n",
        "import lightgbm as lgb\n",
        "from tqdm import tqdm\n",
        "tqdm.pandas()"
      ]
    },
    {
      "cell_type": "code",
      "execution_count": null,
      "id": "e664f822",
      "metadata": {
        "execution": {
          "iopub.execute_input": "2022-10-01T08:36:36.332335Z",
          "iopub.status.busy": "2022-10-01T08:36:36.332007Z",
          "iopub.status.idle": "2022-10-01T08:36:36.419988Z",
          "shell.execute_reply": "2022-10-01T08:36:36.418822Z"
        },
        "papermill": {
          "duration": 0.096038,
          "end_time": "2022-10-01T08:36:36.422421",
          "exception": false,
          "start_time": "2022-10-01T08:36:36.326383",
          "status": "completed"
        },
        "tags": []
      },
      "outputs": [
        {
          "data": {
            "text/html": [
              "<div>\n",
              "<style scoped>\n",
              "    .dataframe tbody tr th:only-of-type {\n",
              "        vertical-align: middle;\n",
              "    }\n",
              "\n",
              "    .dataframe tbody tr th {\n",
              "        vertical-align: top;\n",
              "    }\n",
              "\n",
              "    .dataframe thead th {\n",
              "        text-align: right;\n",
              "    }\n",
              "</style>\n",
              "<table border=\"1\" class=\"dataframe\">\n",
              "  <thead>\n",
              "    <tr style=\"text-align: right;\">\n",
              "      <th></th>\n",
              "      <th>Genre</th>\n",
              "      <th>Poem</th>\n",
              "    </tr>\n",
              "  </thead>\n",
              "  <tbody>\n",
              "    <tr>\n",
              "      <th>0</th>\n",
              "      <td>Music</td>\n",
              "      <td>NaN</td>\n",
              "    </tr>\n",
              "    <tr>\n",
              "      <th>1</th>\n",
              "      <td>Music</td>\n",
              "      <td>In the thick brushthey spend the...</td>\n",
              "    </tr>\n",
              "    <tr>\n",
              "      <th>2</th>\n",
              "      <td>Music</td>\n",
              "      <td>Storms are generous.                       ...</td>\n",
              "    </tr>\n",
              "    <tr>\n",
              "      <th>3</th>\n",
              "      <td>Music</td>\n",
              "      <td>—After Ana Mendieta Did you carry around the ...</td>\n",
              "    </tr>\n",
              "    <tr>\n",
              "      <th>4</th>\n",
              "      <td>Music</td>\n",
              "      <td>for Aja Sherrard at 20The portent may itself ...</td>\n",
              "    </tr>\n",
              "    <tr>\n",
              "      <th>...</th>\n",
              "      <td>...</td>\n",
              "      <td>...</td>\n",
              "    </tr>\n",
              "    <tr>\n",
              "      <th>836</th>\n",
              "      <td>Environment</td>\n",
              "      <td>Why make so much of fragmentary blue In here a...</td>\n",
              "    </tr>\n",
              "    <tr>\n",
              "      <th>837</th>\n",
              "      <td>Environment</td>\n",
              "      <td>Woman, I wish I didn't know your name. What co...</td>\n",
              "    </tr>\n",
              "    <tr>\n",
              "      <th>838</th>\n",
              "      <td>Environment</td>\n",
              "      <td>Yonder to the kiosk, beside the creek, Paddle ...</td>\n",
              "    </tr>\n",
              "    <tr>\n",
              "      <th>839</th>\n",
              "      <td>Environment</td>\n",
              "      <td>You come to fetch me from my work to-night Whe...</td>\n",
              "    </tr>\n",
              "    <tr>\n",
              "      <th>840</th>\n",
              "      <td>Environment</td>\n",
              "      <td>You see them through water and glass, (both li...</td>\n",
              "    </tr>\n",
              "  </tbody>\n",
              "</table>\n",
              "<p>841 rows × 2 columns</p>\n",
              "</div>"
            ],
            "text/plain": [
              "           Genre                                               Poem\n",
              "0          Music                                                NaN\n",
              "1          Music                In the thick brushthey spend the...\n",
              "2          Music     Storms are generous.                       ...\n",
              "3          Music   —After Ana Mendieta Did you carry around the ...\n",
              "4          Music   for Aja Sherrard at 20The portent may itself ...\n",
              "..           ...                                                ...\n",
              "836  Environment  Why make so much of fragmentary blue In here a...\n",
              "837  Environment  Woman, I wish I didn't know your name. What co...\n",
              "838  Environment  Yonder to the kiosk, beside the creek, Paddle ...\n",
              "839  Environment  You come to fetch me from my work to-night Whe...\n",
              "840  Environment  You see them through water and glass, (both li...\n",
              "\n",
              "[841 rows x 2 columns]"
            ]
          },
          "metadata": {},
          "output_type": "display_data"
        },
        {
          "data": {
            "text/html": [
              "<div>\n",
              "<style scoped>\n",
              "    .dataframe tbody tr th:only-of-type {\n",
              "        vertical-align: middle;\n",
              "    }\n",
              "\n",
              "    .dataframe tbody tr th {\n",
              "        vertical-align: top;\n",
              "    }\n",
              "\n",
              "    .dataframe thead th {\n",
              "        text-align: right;\n",
              "    }\n",
              "</style>\n",
              "<table border=\"1\" class=\"dataframe\">\n",
              "  <thead>\n",
              "    <tr style=\"text-align: right;\">\n",
              "      <th></th>\n",
              "      <th>Genre</th>\n",
              "      <th>Poem</th>\n",
              "    </tr>\n",
              "  </thead>\n",
              "  <tbody>\n",
              "    <tr>\n",
              "      <th>0</th>\n",
              "      <td>Music</td>\n",
              "      <td>A woman walks by the bench I’m sitting onwith ...</td>\n",
              "    </tr>\n",
              "    <tr>\n",
              "      <th>1</th>\n",
              "      <td>Music</td>\n",
              "      <td>Because I am a boy, the untouchability of beau...</td>\n",
              "    </tr>\n",
              "    <tr>\n",
              "      <th>2</th>\n",
              "      <td>Music</td>\n",
              "      <td>Because today we did not leave this world,We n...</td>\n",
              "    </tr>\n",
              "    <tr>\n",
              "      <th>3</th>\n",
              "      <td>Music</td>\n",
              "      <td>Big Bend has been here, been here. Shouldn’t i...</td>\n",
              "    </tr>\n",
              "    <tr>\n",
              "      <th>4</th>\n",
              "      <td>Music</td>\n",
              "      <td>I put shells there, along the lip of the road....</td>\n",
              "    </tr>\n",
              "    <tr>\n",
              "      <th>...</th>\n",
              "      <td>...</td>\n",
              "      <td>...</td>\n",
              "    </tr>\n",
              "    <tr>\n",
              "      <th>145</th>\n",
              "      <td>Environment</td>\n",
              "      <td>To pick a tulip from the garden, the red one. ...</td>\n",
              "    </tr>\n",
              "    <tr>\n",
              "      <th>146</th>\n",
              "      <td>Environment</td>\n",
              "      <td>We are as clouds that veil the midnight moon; ...</td>\n",
              "    </tr>\n",
              "    <tr>\n",
              "      <th>147</th>\n",
              "      <td>Environment</td>\n",
              "      <td>When pulled, the spider web took another form....</td>\n",
              "    </tr>\n",
              "    <tr>\n",
              "      <th>148</th>\n",
              "      <td>Environment</td>\n",
              "      <td>Whose woods these are I think I know. His hous...</td>\n",
              "    </tr>\n",
              "    <tr>\n",
              "      <th>149</th>\n",
              "      <td>Environment</td>\n",
              "      <td>you can make the maples blazejust by stopping ...</td>\n",
              "    </tr>\n",
              "  </tbody>\n",
              "</table>\n",
              "<p>150 rows × 2 columns</p>\n",
              "</div>"
            ],
            "text/plain": [
              "           Genre                                               Poem\n",
              "0          Music  A woman walks by the bench I’m sitting onwith ...\n",
              "1          Music  Because I am a boy, the untouchability of beau...\n",
              "2          Music  Because today we did not leave this world,We n...\n",
              "3          Music  Big Bend has been here, been here. Shouldn’t i...\n",
              "4          Music  I put shells there, along the lip of the road....\n",
              "..           ...                                                ...\n",
              "145  Environment  To pick a tulip from the garden, the red one. ...\n",
              "146  Environment  We are as clouds that veil the midnight moon; ...\n",
              "147  Environment  When pulled, the spider web took another form....\n",
              "148  Environment  Whose woods these are I think I know. His hous...\n",
              "149  Environment  you can make the maples blazejust by stopping ...\n",
              "\n",
              "[150 rows x 2 columns]"
            ]
          },
          "metadata": {},
          "output_type": "display_data"
        },
        {
          "name": "stdout",
          "output_type": "stream",
          "text": [
            "<class 'pandas.core.frame.DataFrame'>\n",
            "Int64Index: 991 entries, 0 to 149\n",
            "Data columns (total 2 columns):\n",
            " #   Column  Non-Null Count  Dtype \n",
            "---  ------  --------------  ----- \n",
            " 0   Genre   991 non-null    object\n",
            " 1   Poem    987 non-null    object\n",
            "dtypes: object(2)\n",
            "memory usage: 23.2+ KB\n"
          ]
        },
        {
          "data": {
            "text/plain": [
              "None"
            ]
          },
          "metadata": {},
          "output_type": "display_data"
        }
      ],
      "source": [
        "train = pd.read_csv('../input/poem-classification-nlp/Poem_classification - train_data.csv')\n",
        "test = pd.read_csv('../input/poem-classification-nlp/Poem_classification - test_data.csv')\n",
        "display(train)\n",
        "display(test)\n",
        "data=pd.concat([train,test],axis=0)\n",
        "display(data.info())\n",
        "data=data.dropna()"
      ]
    },
    {
      "cell_type": "code",
      "execution_count": null,
      "id": "40cad2fe",
      "metadata": {
        "execution": {
          "iopub.execute_input": "2022-10-01T08:36:36.434324Z",
          "iopub.status.busy": "2022-10-01T08:36:36.433956Z",
          "iopub.status.idle": "2022-10-01T08:36:36.444040Z",
          "shell.execute_reply": "2022-10-01T08:36:36.442499Z"
        },
        "papermill": {
          "duration": 0.020248,
          "end_time": "2022-10-01T08:36:36.447994",
          "exception": false,
          "start_time": "2022-10-01T08:36:36.427746",
          "status": "completed"
        },
        "tags": []
      },
      "outputs": [
        {
          "name": "stdout",
          "output_type": "stream",
          "text": [
            "Environment    252\n",
            "Music          250\n",
            "Death          244\n",
            "Affection      241\n",
            "Name: Genre, dtype: int64\n"
          ]
        }
      ],
      "source": [
        "print(data['Genre'].value_counts())\n",
        "Name0=data['Genre'].unique().tolist()\n",
        "Name=sorted(Name0)\n",
        "N=list(range(len(Name)))\n",
        "normal_mapping=dict(zip(Name,N)) \n",
        "reverse_mapping=dict(zip(N,Name)) \n",
        "data['Genre']=data['Genre'].map(normal_mapping)"
      ]
    },
    {
      "cell_type": "code",
      "execution_count": null,
      "id": "a81c0de5",
      "metadata": {
        "execution": {
          "iopub.execute_input": "2022-10-01T08:36:36.459986Z",
          "iopub.status.busy": "2022-10-01T08:36:36.459638Z",
          "iopub.status.idle": "2022-10-01T08:36:36.470307Z",
          "shell.execute_reply": "2022-10-01T08:36:36.469381Z"
        },
        "papermill": {
          "duration": 0.018949,
          "end_time": "2022-10-01T08:36:36.472504",
          "exception": false,
          "start_time": "2022-10-01T08:36:36.453555",
          "status": "completed"
        },
        "tags": []
      },
      "outputs": [],
      "source": [
        "class BertSequenceVectorizer:\n",
        "    def __init__(self):\n",
        "        self.device = 'cuda' if torch.cuda.is_available() else 'cpu'\n",
        "        #self.model_name = '../input/bert-base-uncased'  # Inet-not-connect\n",
        "        self.model_name = 'bert-base-uncased'          # Inet-connect\n",
        "        self.tokenizer = BertTokenizer.from_pretrained(self.model_name)\n",
        "        self.bert_model = transformers.BertModel.from_pretrained(self.model_name)\n",
        "        self.bert_model = self.bert_model.to(self.device)\n",
        "        self.max_len = 128\n",
        "\n",
        "    def vectorize(self, sentence : str) -> np.array:\n",
        "        inp = self.tokenizer.encode(sentence)\n",
        "        len_inp = len(inp)\n",
        "\n",
        "        if len_inp >= self.max_len:\n",
        "            inputs = inp[:self.max_len]\n",
        "            masks = [1] * self.max_len\n",
        "        else:\n",
        "            inputs = inp + [0] * (self.max_len - len_inp)\n",
        "            masks = [1] * len_inp + [0] * (self.max_len - len_inp)\n",
        "\n",
        "        inputs_tensor = torch.tensor([inputs], dtype=torch.long).to(self.device)\n",
        "        masks_tensor = torch.tensor([masks], dtype=torch.long).to(self.device)\n",
        "\n",
        "        bert_out = self.bert_model(inputs_tensor, masks_tensor)\n",
        "        seq_out, pooled_out = bert_out['last_hidden_state'], bert_out['pooler_output']\n",
        "\n",
        "        if torch.cuda.is_available():    \n",
        "            return seq_out[0][0].cpu().detach().numpy()\n",
        "        else:\n",
        "            return seq_out[0][0].detach().numpy()"
      ]
    },
    {
      "cell_type": "code",
      "execution_count": null,
      "id": "823c7253",
      "metadata": {
        "execution": {
          "iopub.execute_input": "2022-10-01T08:36:36.484398Z",
          "iopub.status.busy": "2022-10-01T08:36:36.483602Z",
          "iopub.status.idle": "2022-10-01T08:41:22.712967Z",
          "shell.execute_reply": "2022-10-01T08:41:22.711731Z"
        },
        "papermill": {
          "duration": 286.238113,
          "end_time": "2022-10-01T08:41:22.715712",
          "exception": false,
          "start_time": "2022-10-01T08:36:36.477599",
          "status": "completed"
        },
        "tags": []
      },
      "outputs": [
        {
          "data": {
            "application/vnd.jupyter.widget-view+json": {
              "model_id": "abb64bad05284683ad3567e8cdc814f3",
              "version_major": 2,
              "version_minor": 0
            },
            "text/plain": [
              "Downloading:   0%|          | 0.00/226k [00:00<?, ?B/s]"
            ]
          },
          "metadata": {},
          "output_type": "display_data"
        },
        {
          "data": {
            "application/vnd.jupyter.widget-view+json": {
              "model_id": "c8aaa478c1064803abc7b550e4a039d5",
              "version_major": 2,
              "version_minor": 0
            },
            "text/plain": [
              "Downloading:   0%|          | 0.00/28.0 [00:00<?, ?B/s]"
            ]
          },
          "metadata": {},
          "output_type": "display_data"
        },
        {
          "data": {
            "application/vnd.jupyter.widget-view+json": {
              "model_id": "072246d79f0041c5a03da360e119bccb",
              "version_major": 2,
              "version_minor": 0
            },
            "text/plain": [
              "Downloading:   0%|          | 0.00/570 [00:00<?, ?B/s]"
            ]
          },
          "metadata": {},
          "output_type": "display_data"
        },
        {
          "data": {
            "application/vnd.jupyter.widget-view+json": {
              "model_id": "d1feab23e9f94523a98c2bbc786c233a",
              "version_major": 2,
              "version_minor": 0
            },
            "text/plain": [
              "Downloading:   0%|          | 0.00/420M [00:00<?, ?B/s]"
            ]
          },
          "metadata": {},
          "output_type": "display_data"
        },
        {
          "name": "stderr",
          "output_type": "stream",
          "text": [
            "Some weights of the model checkpoint at bert-base-uncased were not used when initializing BertModel: ['cls.predictions.transform.LayerNorm.bias', 'cls.predictions.transform.LayerNorm.weight', 'cls.seq_relationship.bias', 'cls.predictions.transform.dense.bias', 'cls.seq_relationship.weight', 'cls.predictions.bias', 'cls.predictions.decoder.weight', 'cls.predictions.transform.dense.weight']\n",
            "- This IS expected if you are initializing BertModel from the checkpoint of a model trained on another task or with another architecture (e.g. initializing a BertForSequenceClassification model from a BertForPreTraining model).\n",
            "- This IS NOT expected if you are initializing BertModel from the checkpoint of a model that you expect to be exactly identical (initializing a BertForSequenceClassification model from a BertForSequenceClassification model).\n",
            "100%|██████████| 987/987 [04:05<00:00,  4.02it/s]\n"
          ]
        },
        {
          "data": {
            "text/html": [
              "<div>\n",
              "<style scoped>\n",
              "    .dataframe tbody tr th:only-of-type {\n",
              "        vertical-align: middle;\n",
              "    }\n",
              "\n",
              "    .dataframe tbody tr th {\n",
              "        vertical-align: top;\n",
              "    }\n",
              "\n",
              "    .dataframe thead th {\n",
              "        text-align: right;\n",
              "    }\n",
              "</style>\n",
              "<table border=\"1\" class=\"dataframe\">\n",
              "  <thead>\n",
              "    <tr style=\"text-align: right;\">\n",
              "      <th></th>\n",
              "      <th>Genre</th>\n",
              "      <th>Poem</th>\n",
              "      <th>Poem_bert</th>\n",
              "    </tr>\n",
              "  </thead>\n",
              "  <tbody>\n",
              "    <tr>\n",
              "      <th>1</th>\n",
              "      <td>3</td>\n",
              "      <td>In the thick brushthey spend the...</td>\n",
              "      <td>[-0.19468375, 0.42541653, -0.2695186, -0.47039...</td>\n",
              "    </tr>\n",
              "    <tr>\n",
              "      <th>2</th>\n",
              "      <td>3</td>\n",
              "      <td>Storms are generous.                       ...</td>\n",
              "      <td>[-0.012234289, -0.33519086, -0.22740498, 0.057...</td>\n",
              "    </tr>\n",
              "  </tbody>\n",
              "</table>\n",
              "</div>"
            ],
            "text/plain": [
              "   Genre                                               Poem  \\\n",
              "1      3                In the thick brushthey spend the...   \n",
              "2      3     Storms are generous.                       ...   \n",
              "\n",
              "                                           Poem_bert  \n",
              "1  [-0.19468375, 0.42541653, -0.2695186, -0.47039...  \n",
              "2  [-0.012234289, -0.33519086, -0.22740498, 0.057...  "
            ]
          },
          "metadata": {},
          "output_type": "display_data"
        }
      ],
      "source": [
        "BSV = BertSequenceVectorizer()\n",
        "data['Poem_bert']=data['Poem'].progress_apply(lambda x: BSV.vectorize(x))\n",
        "display(data[0:2])"
      ]
    },
    {
      "cell_type": "code",
      "execution_count": null,
      "id": "97895b3d",
      "metadata": {
        "execution": {
          "iopub.execute_input": "2022-10-01T08:41:22.843629Z",
          "iopub.status.busy": "2022-10-01T08:41:22.843200Z",
          "iopub.status.idle": "2022-10-01T08:41:23.147324Z",
          "shell.execute_reply": "2022-10-01T08:41:23.146019Z"
        },
        "papermill": {
          "duration": 0.371,
          "end_time": "2022-10-01T08:41:23.149754",
          "exception": false,
          "start_time": "2022-10-01T08:41:22.778754",
          "status": "completed"
        },
        "tags": []
      },
      "outputs": [
        {
          "name": "stdout",
          "output_type": "stream",
          "text": [
            "(987, 768)\n",
            "(987,)\n"
          ]
        }
      ],
      "source": [
        "review=[]\n",
        "for item in data['Poem_bert']:\n",
        "    review+=[item]\n",
        "\n",
        "dataX0=pd.DataFrame(review)\n",
        "dataY=data['Genre']\n",
        "print(dataX0.shape)\n",
        "print(dataY.shape)"
      ]
    },
    {
      "cell_type": "code",
      "execution_count": null,
      "id": "ae262994",
      "metadata": {
        "execution": {
          "iopub.execute_input": "2022-10-01T08:41:23.278924Z",
          "iopub.status.busy": "2022-10-01T08:41:23.278536Z",
          "iopub.status.idle": "2022-10-01T08:41:23.284122Z",
          "shell.execute_reply": "2022-10-01T08:41:23.282936Z"
        },
        "papermill": {
          "duration": 0.073525,
          "end_time": "2022-10-01T08:41:23.286343",
          "exception": false,
          "start_time": "2022-10-01T08:41:23.212818",
          "status": "completed"
        },
        "tags": []
      },
      "outputs": [],
      "source": [
        "n=len(data)\n",
        "N=list(range(n))\n",
        "random.shuffle(N)"
      ]
    },
    {
      "cell_type": "code",
      "execution_count": null,
      "id": "07f43bfa",
      "metadata": {
        "execution": {
          "iopub.execute_input": "2022-10-01T08:41:23.414940Z",
          "iopub.status.busy": "2022-10-01T08:41:23.414266Z",
          "iopub.status.idle": "2022-10-01T08:41:23.423052Z",
          "shell.execute_reply": "2022-10-01T08:41:23.421828Z"
        },
        "papermill": {
          "duration": 0.075874,
          "end_time": "2022-10-01T08:41:23.425515",
          "exception": false,
          "start_time": "2022-10-01T08:41:23.349641",
          "status": "completed"
        },
        "tags": []
      },
      "outputs": [
        {
          "name": "stdout",
          "output_type": "stream",
          "text": [
            "(841, 768)\n",
            "(146, 768)\n"
          ]
        }
      ],
      "source": [
        "trainX0 = dataX0.iloc[0:len(train)].reset_index(drop=True)\n",
        "trainY = dataY.iloc[0:len(train)].reset_index(drop=True)\n",
        "testX0 = dataX0.iloc[len(train):].reset_index(drop=True)\n",
        "testY = dataY.iloc[len(train):].reset_index(drop=True)\n",
        "print(trainX0.shape)\n",
        "print(testX0.shape)"
      ]
    },
    {
      "cell_type": "code",
      "execution_count": null,
      "id": "9e1dfadd",
      "metadata": {
        "execution": {
          "iopub.execute_input": "2022-10-01T08:41:23.553097Z",
          "iopub.status.busy": "2022-10-01T08:41:23.552686Z",
          "iopub.status.idle": "2022-10-01T08:41:23.559251Z",
          "shell.execute_reply": "2022-10-01T08:41:23.558200Z"
        },
        "papermill": {
          "duration": 0.073323,
          "end_time": "2022-10-01T08:41:23.561729",
          "exception": false,
          "start_time": "2022-10-01T08:41:23.488406",
          "status": "completed"
        },
        "tags": []
      },
      "outputs": [],
      "source": [
        "trainX = trainX0.iloc[:,0:200]\n",
        "testX = testX0.iloc[:,0:200]\n",
        "X = np.array(trainX)\n",
        "y = np.array(trainY)"
      ]
    },
    {
      "cell_type": "code",
      "execution_count": null,
      "id": "bf3edf99",
      "metadata": {
        "execution": {
          "iopub.execute_input": "2022-10-01T08:41:23.690631Z",
          "iopub.status.busy": "2022-10-01T08:41:23.689824Z",
          "iopub.status.idle": "2022-10-01T08:41:23.695795Z",
          "shell.execute_reply": "2022-10-01T08:41:23.694784Z"
        },
        "papermill": {
          "duration": 0.073107,
          "end_time": "2022-10-01T08:41:23.698009",
          "exception": false,
          "start_time": "2022-10-01T08:41:23.624902",
          "status": "completed"
        },
        "tags": []
      },
      "outputs": [],
      "source": [
        "clf = lgb.LGBMRegressor(max_depth=3,n_estimators=1000,learning_rate=0.01)\n",
        "ss = ShuffleSplit(n_splits=5,train_size=0.8,test_size=0.2,random_state=0) "
      ]
    },
    {
      "cell_type": "code",
      "execution_count": null,
      "id": "10ceb61d",
      "metadata": {
        "execution": {
          "iopub.execute_input": "2022-10-01T08:41:23.825461Z",
          "iopub.status.busy": "2022-10-01T08:41:23.825052Z",
          "iopub.status.idle": "2022-10-01T08:41:33.551560Z",
          "shell.execute_reply": "2022-10-01T08:41:33.550187Z"
        },
        "papermill": {
          "duration": 9.79309,
          "end_time": "2022-10-01T08:41:33.554312",
          "exception": false,
          "start_time": "2022-10-01T08:41:23.761222",
          "status": "completed"
        },
        "tags": []
      },
      "outputs": [
        {
          "name": "stdout",
          "output_type": "stream",
          "text": [
            "0.03282836190744054\n",
            "0.06638856520171432\n",
            "0.039941082669343486\n",
            "0.04041640608201991\n",
            "-0.03153331521771863\n"
          ]
        }
      ],
      "source": [
        "for train_index, test_index in ss.split(X):\n",
        "    X_train, X_test = X[train_index], X[test_index]\n",
        "    Y_train, Y_test = y[train_index], y[test_index]\n",
        "    clf.fit(X_train, Y_train) \n",
        "    print(clf.score(X_test, Y_test))"
      ]
    },
    {
      "cell_type": "code",
      "execution_count": null,
      "id": "a5b82d27",
      "metadata": {
        "execution": {
          "iopub.execute_input": "2022-10-01T08:41:33.685166Z",
          "iopub.status.busy": "2022-10-01T08:41:33.684736Z",
          "iopub.status.idle": "2022-10-01T08:41:33.699044Z",
          "shell.execute_reply": "2022-10-01T08:41:33.697759Z"
        },
        "papermill": {
          "duration": 0.08137,
          "end_time": "2022-10-01T08:41:33.701323",
          "exception": false,
          "start_time": "2022-10-01T08:41:33.619953",
          "status": "completed"
        },
        "tags": []
      },
      "outputs": [],
      "source": [
        "y_pred = clf.predict(testX)"
      ]
    },
    {
      "cell_type": "code",
      "execution_count": null,
      "id": "3b8810ec",
      "metadata": {
        "execution": {
          "iopub.execute_input": "2022-10-01T08:41:33.831743Z",
          "iopub.status.busy": "2022-10-01T08:41:33.831334Z",
          "iopub.status.idle": "2022-10-01T08:41:33.838081Z",
          "shell.execute_reply": "2022-10-01T08:41:33.837274Z"
        },
        "papermill": {
          "duration": 0.073485,
          "end_time": "2022-10-01T08:41:33.840154",
          "exception": false,
          "start_time": "2022-10-01T08:41:33.766669",
          "status": "completed"
        },
        "tags": []
      },
      "outputs": [
        {
          "name": "stdout",
          "output_type": "stream",
          "text": [
            "[1, 1, 2, 2, 2]\n",
            "[3, 3, 3, 3, 3]\n"
          ]
        }
      ],
      "source": [
        "PRED=[]\n",
        "for pred in y_pred:\n",
        "    PRED+=[int(round(pred,0))]  \n",
        "ANS=list(testY)\n",
        "print(PRED[0:5])\n",
        "print(ANS[0:5])"
      ]
    },
    {
      "cell_type": "code",
      "execution_count": null,
      "id": "2635ddc4",
      "metadata": {
        "execution": {
          "iopub.execute_input": "2022-10-01T08:41:33.975299Z",
          "iopub.status.busy": "2022-10-01T08:41:33.974080Z",
          "iopub.status.idle": "2022-10-01T08:41:33.984860Z",
          "shell.execute_reply": "2022-10-01T08:41:33.983631Z"
        },
        "papermill": {
          "duration": 0.080322,
          "end_time": "2022-10-01T08:41:33.987271",
          "exception": false,
          "start_time": "2022-10-01T08:41:33.906949",
          "status": "completed"
        },
        "tags": []
      },
      "outputs": [
        {
          "name": "stdout",
          "output_type": "stream",
          "text": [
            "              precision    recall  f1-score   support\n",
            "\n",
            "   Affection     0.8333    0.0500    0.0943       100\n",
            "       Death     0.0278    0.1538    0.0471        13\n",
            " Environment     0.1935    0.4800    0.2759        25\n",
            "       Music     0.0000    0.0000    0.0000         8\n",
            "\n",
            "    accuracy                         0.1301       146\n",
            "   macro avg     0.2637    0.1710    0.1043       146\n",
            "weighted avg     0.6064    0.1301    0.1160       146\n",
            "\n"
          ]
        }
      ],
      "source": [
        "from sklearn.metrics import classification_report\n",
        "print(classification_report(ANS,PRED,target_names=Name,digits=4))"
      ]
    },
    {
      "cell_type": "markdown",
      "id": "8e0c8f63",
      "metadata": {
        "papermill": {
          "duration": 0.063614,
          "end_time": "2022-10-01T08:41:34.117832",
          "exception": false,
          "start_time": "2022-10-01T08:41:34.054218",
          "status": "completed"
        },
        "tags": []
      },
      "source": [
        "This trial using BERT and LGTM could not distinguish genres of the poem. "
      ]
    },
    {
      "cell_type": "markdown",
      "metadata": {
        "id": "OaafOJgYWgEW"
      },
      "source": [
        "# LSTM"
      ]
    },
    {
      "cell_type": "code",
      "execution_count": null,
      "metadata": {
        "_kg_hide-input": true,
        "_kg_hide-output": true,
        "execution": {
          "iopub.execute_input": "2022-10-05T22:36:06.904767Z",
          "iopub.status.busy": "2022-10-05T22:36:06.904310Z",
          "iopub.status.idle": "2022-10-05T22:36:18.402132Z",
          "shell.execute_reply": "2022-10-05T22:36:18.400831Z"
        },
        "id": "4c936860",
        "outputId": "a25bc671-5939-412a-b4f9-2aee9affbdec",
        "papermill": {
          "duration": 11.506521,
          "end_time": "2022-10-05T22:36:18.404933",
          "exception": false,
          "start_time": "2022-10-05T22:36:06.898412",
          "status": "completed"
        },
        "tags": []
      },
      "outputs": [
        {
          "name": "stdout",
          "output_type": "stream",
          "text": [
            "\u001b[33mWARNING: Running pip as the 'root' user can result in broken permissions and conflicting behaviour with the system package manager. It is recommended to use a virtual environment instead: https://pip.pypa.io/warnings/venv\u001b[0m\u001b[33m\r\n",
            "\u001b[0m"
          ]
        }
      ],
      "source": [
        "!pip install keras-tuner --upgrade -q"
      ]
    },
    {
      "cell_type": "code",
      "execution_count": null,
      "metadata": {
        "execution": {
          "iopub.execute_input": "2022-10-05T22:36:18.418519Z",
          "iopub.status.busy": "2022-10-05T22:36:18.416716Z",
          "iopub.status.idle": "2022-10-05T22:36:24.505775Z",
          "shell.execute_reply": "2022-10-05T22:36:24.504689Z"
        },
        "id": "d9812459",
        "papermill": {
          "duration": 6.097678,
          "end_time": "2022-10-05T22:36:24.508287",
          "exception": false,
          "start_time": "2022-10-05T22:36:18.410609",
          "status": "completed"
        },
        "tags": []
      },
      "outputs": [],
      "source": [
        "# standard library\n",
        "import numpy as np\n",
        "import pandas as pd\n",
        "import warnings\n",
        "from sklearn import preprocessing\n",
        "warnings.simplefilter('ignore')\n",
        "import random\n",
        "\n",
        "# neural network library\n",
        "from tensorflow import keras\n",
        "from tensorflow.keras import layers\n",
        "# from tensorflow.keras import preprocessing\n",
        "from keras_preprocessing.text import Tokenizer\n",
        "import kerastuner as kt"
      ]
    },
    {
      "cell_type": "markdown",
      "metadata": {
        "id": "901ec497",
        "papermill": {
          "duration": 0.005259,
          "end_time": "2022-10-05T22:36:24.518571",
          "exception": false,
          "start_time": "2022-10-05T22:36:24.513312",
          "status": "completed"
        },
        "tags": []
      },
      "source": [
        "#Load data"
      ]
    },
    {
      "cell_type": "code",
      "execution_count": null,
      "metadata": {
        "execution": {
          "iopub.execute_input": "2022-10-05T22:36:24.530700Z",
          "iopub.status.busy": "2022-10-05T22:36:24.529080Z",
          "iopub.status.idle": "2022-10-05T22:36:24.578736Z",
          "shell.execute_reply": "2022-10-05T22:36:24.577642Z"
        },
        "id": "dea7061e",
        "outputId": "2975d694-bd0c-4397-9b58-0fa8fb8a3a00",
        "papermill": {
          "duration": 0.057604,
          "end_time": "2022-10-05T22:36:24.580887",
          "exception": false,
          "start_time": "2022-10-05T22:36:24.523283",
          "status": "completed"
        },
        "tags": []
      },
      "outputs": [
        {
          "name": "stdout",
          "output_type": "stream",
          "text": [
            "training records: 837 and validation records: 150\n"
          ]
        }
      ],
      "source": [
        "# train_file = '../input/poem-classification-nlp/Poem_classification - train_data.csv'\n",
        "# val_file = '../input/poem-classification-nlp/Poem_classification - test_data.csv'\n",
        "\n",
        "train = pd.read_csv(train_file)\n",
        "val = pd.read_csv(val_file)\n",
        "\n",
        "# drop NULLs in training data\n",
        "train.dropna(inplace=True)\n",
        "train.reset_index(inplace=True, drop=True)\n",
        "\n",
        "# stat \n",
        "print(f\"training records: {train.shape[0]} and validation records: {val.shape[0]}\")"
      ]
    },
    {
      "cell_type": "code",
      "execution_count": null,
      "metadata": {
        "execution": {
          "iopub.execute_input": "2022-10-05T22:36:24.591851Z",
          "iopub.status.busy": "2022-10-05T22:36:24.591459Z",
          "iopub.status.idle": "2022-10-05T22:36:24.605990Z",
          "shell.execute_reply": "2022-10-05T22:36:24.605160Z"
        },
        "id": "96d359ce",
        "papermill": {
          "duration": 0.022424,
          "end_time": "2022-10-05T22:36:24.608049",
          "exception": false,
          "start_time": "2022-10-05T22:36:24.585625",
          "status": "completed"
        },
        "tags": []
      },
      "outputs": [],
      "source": [
        "# params\n",
        "max_features = int(sum([len(txt.split()) for txt in train['Poem']]) /2) # top n words to consider\n",
        "maxlen = max([len(txt.split()) for txt in train['Poem']])  # first n words to consider"
      ]
    },
    {
      "cell_type": "markdown",
      "metadata": {
        "id": "45ba9344",
        "papermill": {
          "duration": 0.004529,
          "end_time": "2022-10-05T22:36:24.617431",
          "exception": false,
          "start_time": "2022-10-05T22:36:24.612902",
          "status": "completed"
        },
        "tags": []
      },
      "source": [
        "#Label encoding"
      ]
    },
    {
      "cell_type": "code",
      "execution_count": null,
      "metadata": {
        "execution": {
          "iopub.execute_input": "2022-10-05T22:36:24.628012Z",
          "iopub.status.busy": "2022-10-05T22:36:24.627720Z",
          "iopub.status.idle": "2022-10-05T22:36:24.635141Z",
          "shell.execute_reply": "2022-10-05T22:36:24.634137Z"
        },
        "id": "d6993c50",
        "papermill": {
          "duration": 0.015219,
          "end_time": "2022-10-05T22:36:24.637453",
          "exception": false,
          "start_time": "2022-10-05T22:36:24.622234",
          "status": "completed"
        },
        "tags": []
      },
      "outputs": [],
      "source": [
        "# label encoding\n",
        "''' affection: 0, death: 1, environment: 2, music: 3 '''\n",
        "label_encoder = preprocessing.LabelEncoder()\n",
        "train['Genre_Code']= label_encoder.fit_transform(train['Genre'])\n",
        "val['Genre_Code']= label_encoder.fit_transform(val['Genre'])"
      ]
    },
    {
      "cell_type": "markdown",
      "metadata": {
        "id": "633ee16d",
        "papermill": {
          "duration": 0.004568,
          "end_time": "2022-10-05T22:36:24.646678",
          "exception": false,
          "start_time": "2022-10-05T22:36:24.642110",
          "status": "completed"
        },
        "tags": []
      },
      "source": [
        "#Preprocessing data"
      ]
    },
    {
      "cell_type": "code",
      "execution_count": null,
      "metadata": {
        "execution": {
          "iopub.execute_input": "2022-10-05T22:36:24.657617Z",
          "iopub.status.busy": "2022-10-05T22:36:24.657367Z",
          "iopub.status.idle": "2022-10-05T22:36:24.780504Z",
          "shell.execute_reply": "2022-10-05T22:36:24.779660Z"
        },
        "id": "2dc61b2c",
        "papermill": {
          "duration": 0.130553,
          "end_time": "2022-10-05T22:36:24.782488",
          "exception": false,
          "start_time": "2022-10-05T22:36:24.651935",
          "status": "completed"
        },
        "tags": []
      },
      "outputs": [],
      "source": [
        "tokenizer = Tokenizer(num_words=max_features, filters='!\"#$%&()*+,-./:;<=>?@[\\\\]^_`{|}~\\t\\n')\n",
        "\n",
        "# training data\n",
        "tokenizer.fit_on_texts(train['Poem'])\n",
        "x_train = np.array(tokenizer.texts_to_sequences(train['Poem']))\n",
        "y_train = np.array(train['Genre_Code'])\n",
        "\n",
        "# validation data\n",
        "tokenizer.fit_on_texts(val['Poem'])\n",
        "x_val = np.array(tokenizer.texts_to_sequences(val['Poem']))\n",
        "y_val = np.array(val['Genre_Code'])\n",
        "\n",
        "x_train = keras.preprocessing.sequence.pad_sequences(x_train, maxlen=maxlen)\n",
        "x_val = keras.preprocessing.sequence.pad_sequences(x_val, maxlen=maxlen)"
      ]
    },
    {
      "cell_type": "markdown",
      "metadata": {
        "id": "94716aae",
        "papermill": {
          "duration": 0.005515,
          "end_time": "2022-10-05T22:36:24.792786",
          "exception": false,
          "start_time": "2022-10-05T22:36:24.787271",
          "status": "completed"
        },
        "tags": []
      },
      "source": [
        "## Build & tune the model"
      ]
    },
    {
      "cell_type": "code",
      "execution_count": null,
      "metadata": {
        "_kg_hide-output": true,
        "execution": {
          "iopub.execute_input": "2022-10-05T22:36:24.803324Z",
          "iopub.status.busy": "2022-10-05T22:36:24.803051Z",
          "iopub.status.idle": "2022-10-05T22:36:28.541355Z",
          "shell.execute_reply": "2022-10-05T22:36:28.540388Z"
        },
        "id": "125382fe",
        "outputId": "7618244c-2b8d-4d69-85ea-ed8d66e618f5",
        "papermill": {
          "duration": 3.746778,
          "end_time": "2022-10-05T22:36:28.544236",
          "exception": false,
          "start_time": "2022-10-05T22:36:24.797458",
          "status": "completed"
        },
        "tags": []
      },
      "outputs": [
        {
          "name": "stderr",
          "output_type": "stream",
          "text": [
            "2022-10-05 22:36:24.904824: I tensorflow/stream_executor/cuda/cuda_gpu_executor.cc:937] successful NUMA node read from SysFS had negative value (-1), but there must be at least one NUMA node, so returning NUMA node zero\n",
            "2022-10-05 22:36:25.004922: I tensorflow/stream_executor/cuda/cuda_gpu_executor.cc:937] successful NUMA node read from SysFS had negative value (-1), but there must be at least one NUMA node, so returning NUMA node zero\n",
            "2022-10-05 22:36:25.005667: I tensorflow/stream_executor/cuda/cuda_gpu_executor.cc:937] successful NUMA node read from SysFS had negative value (-1), but there must be at least one NUMA node, so returning NUMA node zero\n",
            "2022-10-05 22:36:25.007820: I tensorflow/core/platform/cpu_feature_guard.cc:142] This TensorFlow binary is optimized with oneAPI Deep Neural Network Library (oneDNN) to use the following CPU instructions in performance-critical operations:  AVX2 AVX512F FMA\n",
            "To enable them in other operations, rebuild TensorFlow with the appropriate compiler flags.\n",
            "2022-10-05 22:36:25.008185: I tensorflow/stream_executor/cuda/cuda_gpu_executor.cc:937] successful NUMA node read from SysFS had negative value (-1), but there must be at least one NUMA node, so returning NUMA node zero\n",
            "2022-10-05 22:36:25.009101: I tensorflow/stream_executor/cuda/cuda_gpu_executor.cc:937] successful NUMA node read from SysFS had negative value (-1), but there must be at least one NUMA node, so returning NUMA node zero\n",
            "2022-10-05 22:36:25.009807: I tensorflow/stream_executor/cuda/cuda_gpu_executor.cc:937] successful NUMA node read from SysFS had negative value (-1), but there must be at least one NUMA node, so returning NUMA node zero\n",
            "2022-10-05 22:36:27.323704: I tensorflow/stream_executor/cuda/cuda_gpu_executor.cc:937] successful NUMA node read from SysFS had negative value (-1), but there must be at least one NUMA node, so returning NUMA node zero\n",
            "2022-10-05 22:36:27.324718: I tensorflow/stream_executor/cuda/cuda_gpu_executor.cc:937] successful NUMA node read from SysFS had negative value (-1), but there must be at least one NUMA node, so returning NUMA node zero\n",
            "2022-10-05 22:36:27.325404: I tensorflow/stream_executor/cuda/cuda_gpu_executor.cc:937] successful NUMA node read from SysFS had negative value (-1), but there must be at least one NUMA node, so returning NUMA node zero\n",
            "2022-10-05 22:36:27.326036: I tensorflow/core/common_runtime/gpu/gpu_device.cc:1510] Created device /job:localhost/replica:0/task:0/device:GPU:0 with 15401 MB memory:  -> device: 0, name: Tesla P100-PCIE-16GB, pci bus id: 0000:00:04.0, compute capability: 6.0\n"
          ]
        }
      ],
      "source": [
        "# Input for variable-length sequences of integers\n",
        "inputs = keras.Input(shape=(None,), dtype=\"int32\")\n",
        "# Embed each integer in a 128-dimensional vector\n",
        "x = layers.Embedding(max_features, 128)(inputs)\n",
        "# Add 2 bidirectional LSTMs\n",
        "x = layers.Bidirectional(layers.LSTM(64, return_sequences=True))(x)\n",
        "x = layers.Bidirectional(layers.LSTM(64))(x)\n",
        "# Add a classifier\n",
        "outputs = layers.Dense(1, activation=\"sigmoid\")(x)\n",
        "model = keras.Model(inputs, outputs)\n",
        "# model.summary()"
      ]
    },
    {
      "cell_type": "markdown",
      "metadata": {
        "id": "bca60e34",
        "papermill": {
          "duration": 0.005307,
          "end_time": "2022-10-05T22:36:28.560289",
          "exception": false,
          "start_time": "2022-10-05T22:36:28.554982",
          "status": "completed"
        },
        "tags": []
      },
      "source": [
        "### Hyperparameter tuning the base model"
      ]
    },
    {
      "cell_type": "code",
      "execution_count": null,
      "metadata": {
        "execution": {
          "iopub.execute_input": "2022-10-05T22:36:28.572879Z",
          "iopub.status.busy": "2022-10-05T22:36:28.572545Z",
          "iopub.status.idle": "2022-10-05T22:36:28.579795Z",
          "shell.execute_reply": "2022-10-05T22:36:28.578764Z"
        },
        "id": "3fc8f497",
        "papermill": {
          "duration": 0.015512,
          "end_time": "2022-10-05T22:36:28.581805",
          "exception": false,
          "start_time": "2022-10-05T22:36:28.566293",
          "status": "completed"
        },
        "tags": []
      },
      "outputs": [],
      "source": [
        "def build_model(hp):\n",
        "  # Choose an optimal value between 32-512\n",
        "  hp_units = hp.Int('units', min_value=32, max_value=512, step=32)\n",
        "\n",
        "  inputs = keras.Input(shape=(None,), dtype=\"int32\")\n",
        "  x = layers.Embedding(max_features, hp_units)(inputs)\n",
        "  x = layers.Bidirectional(layers.LSTM(hp_units, return_sequences=True))(x)\n",
        "  x = layers.Bidirectional(layers.LSTM(hp_units))(x)\n",
        "  outputs = layers.Dense(1, activation=\"sigmoid\")(x)\n",
        "  model = keras.Model(inputs, outputs)\n",
        "\n",
        "  hp_learning_rate = hp.Choice('learning_rate', values=[1e-2, 1e-3, 1e-4])\n",
        "  model.compile(optimizer=keras.optimizers.Adam(learning_rate=hp_learning_rate),\n",
        "                loss=keras.losses.SparseCategoricalCrossentropy(),\n",
        "                metrics=['accuracy'])\n",
        "  return model"
      ]
    },
    {
      "cell_type": "code",
      "execution_count": null,
      "metadata": {
        "execution": {
          "iopub.execute_input": "2022-10-05T22:36:28.593805Z",
          "iopub.status.busy": "2022-10-05T22:36:28.592214Z",
          "iopub.status.idle": "2022-10-05T22:36:29.407472Z",
          "shell.execute_reply": "2022-10-05T22:36:29.406491Z"
        },
        "id": "aab13a73",
        "papermill": {
          "duration": 0.823467,
          "end_time": "2022-10-05T22:36:29.410049",
          "exception": false,
          "start_time": "2022-10-05T22:36:28.586582",
          "status": "completed"
        },
        "tags": []
      },
      "outputs": [],
      "source": [
        "# Instantiate the tuner\n",
        "tuner = kt.Hyperband(\n",
        "                      build_model, # the hypermodel\n",
        "                      objective='val_accuracy', # objective to optimize\n",
        "                      max_epochs=10,\n",
        "                      factor=3, # factor which you have seen above \n",
        "                    )"
      ]
    },
    {
      "cell_type": "code",
      "execution_count": null,
      "metadata": {
        "execution": {
          "iopub.execute_input": "2022-10-05T22:36:29.423336Z",
          "iopub.status.busy": "2022-10-05T22:36:29.421727Z",
          "iopub.status.idle": "2022-10-05T22:41:53.382320Z",
          "shell.execute_reply": "2022-10-05T22:41:53.381364Z"
        },
        "id": "7b2791b6",
        "outputId": "1fd8c189-d157-4155-c655-6f2f665aabce",
        "papermill": {
          "duration": 323.96863,
          "end_time": "2022-10-05T22:41:53.384397",
          "exception": false,
          "start_time": "2022-10-05T22:36:29.415767",
          "status": "completed"
        },
        "tags": []
      },
      "outputs": [
        {
          "name": "stdout",
          "output_type": "stream",
          "text": [
            "Trial 30 Complete [00h 00m 14s]\n",
            "val_accuracy: 0.6666666865348816\n",
            "\n",
            "Best val_accuracy So Far: 0.6666666865348816\n",
            "Total elapsed time: 00h 05m 24s\n"
          ]
        }
      ],
      "source": [
        "# start the search and get the best model\n",
        "stop_early = keras.callbacks.EarlyStopping(monitor='val_loss', patience=10)\n",
        "tuner.search(x_train, y_train, epochs=10, validation_data=(x_val, y_val), callbacks=[stop_early])\n",
        "best_param = tuner.get_best_hyperparameters()[0]"
      ]
    },
    {
      "cell_type": "code",
      "execution_count": null,
      "metadata": {
        "execution": {
          "iopub.execute_input": "2022-10-05T22:41:53.397387Z",
          "iopub.status.busy": "2022-10-05T22:41:53.395918Z",
          "iopub.status.idle": "2022-10-05T22:41:53.403266Z",
          "shell.execute_reply": "2022-10-05T22:41:53.402047Z"
        },
        "id": "4a2db19b",
        "outputId": "85c0fd97-ce44-4c74-ed82-5ad6bca061fb",
        "papermill": {
          "duration": 0.015998,
          "end_time": "2022-10-05T22:41:53.405816",
          "exception": false,
          "start_time": "2022-10-05T22:41:53.389818",
          "status": "completed"
        },
        "tags": []
      },
      "outputs": [
        {
          "name": "stdout",
          "output_type": "stream",
          "text": [
            "best parameters are:\n",
            " {'units': 32, 'learning_rate': 0.001, 'tuner/epochs': 2, 'tuner/initial_epoch': 0, 'tuner/bracket': 2, 'tuner/round': 0}\n"
          ]
        }
      ],
      "source": [
        "print(\"best parameters are:\\n\",best_param.values)"
      ]
    },
    {
      "cell_type": "markdown",
      "metadata": {
        "id": "b6c8080a",
        "papermill": {
          "duration": 0.004809,
          "end_time": "2022-10-05T22:41:53.415999",
          "exception": false,
          "start_time": "2022-10-05T22:41:53.411190",
          "status": "completed"
        },
        "tags": []
      },
      "source": [
        "## Build model with optimal parameters"
      ]
    },
    {
      "cell_type": "code",
      "execution_count": null,
      "metadata": {
        "_kg_hide-input": true,
        "execution": {
          "iopub.execute_input": "2022-10-05T22:41:53.427375Z",
          "iopub.status.busy": "2022-10-05T22:41:53.427090Z",
          "iopub.status.idle": "2022-10-05T22:41:53.433421Z",
          "shell.execute_reply": "2022-10-05T22:41:53.432573Z"
        },
        "id": "e1b96294",
        "papermill": {
          "duration": 0.014289,
          "end_time": "2022-10-05T22:41:53.435310",
          "exception": false,
          "start_time": "2022-10-05T22:41:53.421021",
          "status": "completed"
        },
        "tags": []
      },
      "outputs": [],
      "source": [
        "def get_lr(lr):\n",
        "  if lr == 0.01:\n",
        "    return 1e-2\n",
        "  elif lr == 0.001:\n",
        "    return 1e-3\n",
        "  elif lr == 0.0001:\n",
        "    return  1e-4"
      ]
    },
    {
      "cell_type": "code",
      "execution_count": null,
      "metadata": {
        "execution": {
          "iopub.execute_input": "2022-10-05T22:41:53.446174Z",
          "iopub.status.busy": "2022-10-05T22:41:53.445921Z",
          "iopub.status.idle": "2022-10-05T22:41:53.450765Z",
          "shell.execute_reply": "2022-10-05T22:41:53.449736Z"
        },
        "id": "ab540157",
        "papermill": {
          "duration": 0.012851,
          "end_time": "2022-10-05T22:41:53.452975",
          "exception": false,
          "start_time": "2022-10-05T22:41:53.440124",
          "status": "completed"
        },
        "tags": []
      },
      "outputs": [],
      "source": [
        "# params for optimization\n",
        "unit = best_param.values['units']\n",
        "epoch = best_param.values['tuner/epochs']\n",
        "size = 32\n",
        "lr = get_lr(best_param.values['learning_rate'])"
      ]
    },
    {
      "cell_type": "code",
      "execution_count": null,
      "metadata": {
        "execution": {
          "iopub.execute_input": "2022-10-05T22:41:53.463711Z",
          "iopub.status.busy": "2022-10-05T22:41:53.463452Z",
          "iopub.status.idle": "2022-10-05T22:41:54.874153Z",
          "shell.execute_reply": "2022-10-05T22:41:54.873086Z"
        },
        "id": "20dde12b",
        "papermill": {
          "duration": 1.418878,
          "end_time": "2022-10-05T22:41:54.876698",
          "exception": false,
          "start_time": "2022-10-05T22:41:53.457820",
          "status": "completed"
        },
        "tags": []
      },
      "outputs": [],
      "source": [
        "# updating the base model\n",
        "inputs = keras.Input(shape=(None,), dtype=\"int32\")\n",
        "x = layers.Embedding(max_features, unit)(inputs)\n",
        "x = layers.Bidirectional(layers.LSTM(unit, return_sequences=True))(x)\n",
        "x = layers.Bidirectional(layers.LSTM(unit))(x)\n",
        "# Add a classifier\n",
        "outputs = layers.Dense(1, activation=\"sigmoid\")(x)\n",
        "model = keras.Model(inputs, outputs)\n",
        "# model.summary()"
      ]
    },
    {
      "cell_type": "code",
      "execution_count": null,
      "metadata": {
        "execution": {
          "iopub.execute_input": "2022-10-05T22:41:54.890021Z",
          "iopub.status.busy": "2022-10-05T22:41:54.888225Z",
          "iopub.status.idle": "2022-10-05T22:42:01.142693Z",
          "shell.execute_reply": "2022-10-05T22:42:01.141547Z"
        },
        "id": "f362dec6",
        "outputId": "eefedc08-e8ec-4bc3-d199-95fda8bb996d",
        "papermill": {
          "duration": 6.263282,
          "end_time": "2022-10-05T22:42:01.145193",
          "exception": false,
          "start_time": "2022-10-05T22:41:54.881911",
          "status": "completed"
        },
        "tags": []
      },
      "outputs": [
        {
          "name": "stdout",
          "output_type": "stream",
          "text": [
            "Epoch 1/2\n",
            "27/27 [==============================] - 6s 56ms/step - loss: nan - accuracy: 0.1697 - val_loss: nan - val_accuracy: 0.6667\n",
            "Epoch 2/2\n",
            "27/27 [==============================] - 0s 13ms/step - loss: nan - accuracy: 0.1685 - val_loss: nan - val_accuracy: 0.6667\n"
          ]
        }
      ],
      "source": [
        "# compiling & fitting the model\n",
        "model.compile(optimizer=keras.optimizers.Adam(learning_rate=lr), loss=keras.losses.SparseCategoricalCrossentropy(), metrics=[\"accuracy\"])\n",
        "history = model.fit(x_train, y_train, batch_size=size, epochs=epoch, validation_data=(x_val, y_val))"
      ]
    },
    {
      "cell_type": "code",
      "execution_count": null,
      "metadata": {
        "execution": {
          "iopub.execute_input": "2022-10-05T22:42:01.159796Z",
          "iopub.status.busy": "2022-10-05T22:42:01.158084Z",
          "iopub.status.idle": "2022-10-05T22:42:01.164277Z",
          "shell.execute_reply": "2022-10-05T22:42:01.163234Z"
        },
        "id": "fd244ea4",
        "outputId": "ee40b35c-df09-49d2-c3b2-d754ca42d693",
        "papermill": {
          "duration": 0.015968,
          "end_time": "2022-10-05T22:42:01.167230",
          "exception": false,
          "start_time": "2022-10-05T22:42:01.151262",
          "status": "completed"
        },
        "tags": []
      },
      "outputs": [
        {
          "name": "stdout",
          "output_type": "stream",
          "text": [
            "Model's Optimized Accuracy is: 0.67\n"
          ]
        }
      ],
      "source": [
        "acc = \"{:.2f}\".format(history.history.get('val_accuracy')[0])\n",
        "print(f\"Model's Optimized Accuracy is: {acc}\")"
      ]
    },
    {
      "cell_type": "markdown",
      "metadata": {
        "id": "dsjeaRv_a9Vt"
      },
      "source": [
        "# Neural Nets"
      ]
    },
    {
      "cell_type": "code",
      "execution_count": null,
      "metadata": {
        "execution": {
          "iopub.execute_input": "2022-10-03T04:14:41.446601Z",
          "iopub.status.busy": "2022-10-03T04:14:41.445688Z",
          "iopub.status.idle": "2022-10-03T04:14:46.534865Z",
          "shell.execute_reply": "2022-10-03T04:14:46.533856Z"
        },
        "id": "ce82dd89",
        "papermill": {
          "duration": 5.096295,
          "end_time": "2022-10-03T04:14:46.537410",
          "exception": false,
          "start_time": "2022-10-03T04:14:41.441115",
          "status": "completed"
        },
        "tags": []
      },
      "outputs": [],
      "source": [
        "import tensorflow as tf\n",
        "from tensorflow.keras.preprocessing.text import Tokenizer\n",
        "from tensorflow.keras.preprocessing.sequence import pad_sequences\n",
        "import pandas as pd\n",
        "import numpy as np"
      ]
    },
    {
      "cell_type": "code",
      "execution_count": null,
      "metadata": {
        "execution": {
          "iopub.execute_input": "2022-10-03T04:14:46.545604Z",
          "iopub.status.busy": "2022-10-03T04:14:46.544582Z",
          "iopub.status.idle": "2022-10-03T04:14:46.628018Z",
          "shell.execute_reply": "2022-10-03T04:14:46.627146Z"
        },
        "id": "146215c1",
        "papermill": {
          "duration": 0.089516,
          "end_time": "2022-10-03T04:14:46.630161",
          "exception": false,
          "start_time": "2022-10-03T04:14:46.540645",
          "status": "completed"
        },
        "tags": []
      },
      "outputs": [],
      "source": [
        "# train = pd.read_csv('../input/poem-classification-nlp/Poem_classification - train_data.csv')\n",
        "# test = pd.read_csv('../input/poem-classification-nlp/Poem_classification - test_data.csv')\n",
        "data=pd.concat([train,test],axis=0)\n",
        "data=data.dropna()"
      ]
    },
    {
      "cell_type": "code",
      "execution_count": null,
      "metadata": {
        "execution": {
          "iopub.execute_input": "2022-10-03T04:14:46.636938Z",
          "iopub.status.busy": "2022-10-03T04:14:46.636100Z",
          "iopub.status.idle": "2022-10-03T04:14:46.642344Z",
          "shell.execute_reply": "2022-10-03T04:14:46.641478Z"
        },
        "id": "5f5dd13d",
        "papermill": {
          "duration": 0.011616,
          "end_time": "2022-10-03T04:14:46.644258",
          "exception": false,
          "start_time": "2022-10-03T04:14:46.632642",
          "status": "completed"
        },
        "tags": []
      },
      "outputs": [],
      "source": [
        "data = data.replace({'Environment':0,'Music':1,'Death':2,'Affection':3})"
      ]
    },
    {
      "cell_type": "code",
      "execution_count": null,
      "metadata": {
        "execution": {
          "iopub.execute_input": "2022-10-03T04:14:46.650296Z",
          "iopub.status.busy": "2022-10-03T04:14:46.650031Z",
          "iopub.status.idle": "2022-10-03T04:14:46.661292Z",
          "shell.execute_reply": "2022-10-03T04:14:46.660403Z"
        },
        "id": "f450831b",
        "outputId": "9c36e2b7-9de8-4945-fd59-2fc02dd8ac2d",
        "papermill": {
          "duration": 0.01719,
          "end_time": "2022-10-03T04:14:46.663971",
          "exception": false,
          "start_time": "2022-10-03T04:14:46.646781",
          "status": "completed"
        },
        "tags": []
      },
      "outputs": [
        {
          "data": {
            "text/plain": [
              "((987,), (987,))"
            ]
          },
          "execution_count": 4,
          "metadata": {},
          "output_type": "execute_result"
        }
      ],
      "source": [
        "sentences = data['Poem']\n",
        "labels = data['Genre']\n",
        "sentences = np.array(sentences)\n",
        "labels = np.array(labels)\n",
        "sentences.shape,labels.shape"
      ]
    },
    {
      "cell_type": "code",
      "execution_count": null,
      "metadata": {
        "execution": {
          "iopub.execute_input": "2022-10-03T04:14:46.670687Z",
          "iopub.status.busy": "2022-10-03T04:14:46.669916Z",
          "iopub.status.idle": "2022-10-03T04:14:46.674692Z",
          "shell.execute_reply": "2022-10-03T04:14:46.673890Z"
        },
        "id": "6c057d52",
        "papermill": {
          "duration": 0.010229,
          "end_time": "2022-10-03T04:14:46.676770",
          "exception": false,
          "start_time": "2022-10-03T04:14:46.666541",
          "status": "completed"
        },
        "tags": []
      },
      "outputs": [],
      "source": [
        "training_sentences = sentences[0:901]\n",
        "testing_sentences = sentences[901:]\n",
        "training_labels = labels[0:901]\n",
        "testing_labels = labels[901:]"
      ]
    },
    {
      "cell_type": "code",
      "execution_count": null,
      "metadata": {
        "execution": {
          "iopub.execute_input": "2022-10-03T04:14:46.683206Z",
          "iopub.status.busy": "2022-10-03T04:14:46.682600Z",
          "iopub.status.idle": "2022-10-03T04:14:46.787834Z",
          "shell.execute_reply": "2022-10-03T04:14:46.787012Z"
        },
        "id": "59dd1443",
        "papermill": {
          "duration": 0.110505,
          "end_time": "2022-10-03T04:14:46.789816",
          "exception": false,
          "start_time": "2022-10-03T04:14:46.679311",
          "status": "completed"
        },
        "tags": []
      },
      "outputs": [],
      "source": [
        "tokenizer = Tokenizer(num_words=10000, oov_token=\"<OOV>\")\n",
        "tokenizer.fit_on_texts(training_sentences)\n",
        "\n",
        "word_index = tokenizer.word_index\n",
        "\n",
        "training_sequences = tokenizer.texts_to_sequences(training_sentences)\n",
        "training_padded = pad_sequences(training_sequences, maxlen=200, padding='post', truncating='post')\n",
        "\n",
        "testing_sequences = tokenizer.texts_to_sequences(testing_sentences)\n",
        "testing_padded = pad_sequences(testing_sequences, maxlen=200, padding='post', truncating='post')"
      ]
    },
    {
      "cell_type": "code",
      "execution_count": null,
      "metadata": {
        "execution": {
          "iopub.execute_input": "2022-10-03T04:14:46.797199Z",
          "iopub.status.busy": "2022-10-03T04:14:46.795812Z",
          "iopub.status.idle": "2022-10-03T04:14:46.801499Z",
          "shell.execute_reply": "2022-10-03T04:14:46.800671Z"
        },
        "id": "d32ae8d4",
        "papermill": {
          "duration": 0.011183,
          "end_time": "2022-10-03T04:14:46.803590",
          "exception": false,
          "start_time": "2022-10-03T04:14:46.792407",
          "status": "completed"
        },
        "tags": []
      },
      "outputs": [],
      "source": [
        "training_padded = np.array(training_padded)\n",
        "training_labels = np.array(training_labels)\n",
        "testing_padded = np.array(testing_padded)\n",
        "testing_labels = np.array(testing_labels)"
      ]
    },
    {
      "cell_type": "code",
      "execution_count": null,
      "metadata": {
        "execution": {
          "iopub.execute_input": "2022-10-03T04:14:46.809918Z",
          "iopub.status.busy": "2022-10-03T04:14:46.809639Z",
          "iopub.status.idle": "2022-10-03T04:14:49.713247Z",
          "shell.execute_reply": "2022-10-03T04:14:49.712158Z"
        },
        "id": "825cf14a",
        "outputId": "6181799a-b262-4721-d6ec-0822ee5b3c03",
        "papermill": {
          "duration": 2.909789,
          "end_time": "2022-10-03T04:14:49.715924",
          "exception": false,
          "start_time": "2022-10-03T04:14:46.806135",
          "status": "completed"
        },
        "tags": []
      },
      "outputs": [
        {
          "name": "stderr",
          "output_type": "stream",
          "text": [
            "2022-10-03 04:14:46.886886: I tensorflow/stream_executor/cuda/cuda_gpu_executor.cc:937] successful NUMA node read from SysFS had negative value (-1), but there must be at least one NUMA node, so returning NUMA node zero\n",
            "2022-10-03 04:14:46.977522: I tensorflow/stream_executor/cuda/cuda_gpu_executor.cc:937] successful NUMA node read from SysFS had negative value (-1), but there must be at least one NUMA node, so returning NUMA node zero\n",
            "2022-10-03 04:14:46.978312: I tensorflow/stream_executor/cuda/cuda_gpu_executor.cc:937] successful NUMA node read from SysFS had negative value (-1), but there must be at least one NUMA node, so returning NUMA node zero\n",
            "2022-10-03 04:14:46.979467: I tensorflow/core/platform/cpu_feature_guard.cc:142] This TensorFlow binary is optimized with oneAPI Deep Neural Network Library (oneDNN) to use the following CPU instructions in performance-critical operations:  AVX2 AVX512F FMA\n",
            "To enable them in other operations, rebuild TensorFlow with the appropriate compiler flags.\n",
            "2022-10-03 04:14:46.988754: I tensorflow/stream_executor/cuda/cuda_gpu_executor.cc:937] successful NUMA node read from SysFS had negative value (-1), but there must be at least one NUMA node, so returning NUMA node zero\n",
            "2022-10-03 04:14:46.989507: I tensorflow/stream_executor/cuda/cuda_gpu_executor.cc:937] successful NUMA node read from SysFS had negative value (-1), but there must be at least one NUMA node, so returning NUMA node zero\n",
            "2022-10-03 04:14:46.990194: I tensorflow/stream_executor/cuda/cuda_gpu_executor.cc:937] successful NUMA node read from SysFS had negative value (-1), but there must be at least one NUMA node, so returning NUMA node zero\n",
            "2022-10-03 04:14:49.151383: I tensorflow/stream_executor/cuda/cuda_gpu_executor.cc:937] successful NUMA node read from SysFS had negative value (-1), but there must be at least one NUMA node, so returning NUMA node zero\n",
            "2022-10-03 04:14:49.152243: I tensorflow/stream_executor/cuda/cuda_gpu_executor.cc:937] successful NUMA node read from SysFS had negative value (-1), but there must be at least one NUMA node, so returning NUMA node zero\n",
            "2022-10-03 04:14:49.152938: I tensorflow/stream_executor/cuda/cuda_gpu_executor.cc:937] successful NUMA node read from SysFS had negative value (-1), but there must be at least one NUMA node, so returning NUMA node zero\n",
            "2022-10-03 04:14:49.153534: I tensorflow/core/common_runtime/gpu/gpu_device.cc:1510] Created device /job:localhost/replica:0/task:0/device:GPU:0 with 15401 MB memory:  -> device: 0, name: Tesla P100-PCIE-16GB, pci bus id: 0000:00:04.0, compute capability: 6.0\n"
          ]
        },
        {
          "name": "stdout",
          "output_type": "stream",
          "text": [
            "Model: \"sequential\"\n",
            "_________________________________________________________________\n",
            "Layer (type)                 Output Shape              Param #   \n",
            "=================================================================\n",
            "embedding (Embedding)        (None, 200, 16)           160000    \n",
            "_________________________________________________________________\n",
            "global_average_pooling1d (Gl (None, 16)                0         \n",
            "_________________________________________________________________\n",
            "flatten (Flatten)            (None, 16)                0         \n",
            "_________________________________________________________________\n",
            "dense (Dense)                (None, 50)                850       \n",
            "_________________________________________________________________\n",
            "dense_1 (Dense)              (None, 25)                1275      \n",
            "_________________________________________________________________\n",
            "dense_2 (Dense)              (None, 4)                 104       \n",
            "=================================================================\n",
            "Total params: 162,229\n",
            "Trainable params: 162,229\n",
            "Non-trainable params: 0\n",
            "_________________________________________________________________\n"
          ]
        }
      ],
      "source": [
        "model = tf.keras.Sequential()\n",
        "model.add(tf.keras.layers.Embedding(10000,16,input_length=200))\n",
        "model.add(tf.keras.layers.GlobalAveragePooling1D())\n",
        "model.add(tf.keras.layers.Flatten())\n",
        "model.add(tf.keras.layers.Dense(50,activation='relu'))\n",
        "model.add(tf.keras.layers.Dense(25,activation='relu'))\n",
        "model.add(tf.keras.layers.Dense(4,activation='softmax'))\n",
        "opt = tf.keras.optimizers.Adam()\n",
        "model.compile(loss='sparse_categorical_crossentropy',optimizer=opt,metrics=['accuracy'])\n",
        "model.summary()"
      ]
    },
    {
      "cell_type": "code",
      "execution_count": null,
      "metadata": {
        "execution": {
          "iopub.execute_input": "2022-10-03T04:14:49.723181Z",
          "iopub.status.busy": "2022-10-03T04:14:49.722901Z",
          "iopub.status.idle": "2022-10-03T04:15:01.146349Z",
          "shell.execute_reply": "2022-10-03T04:15:01.145210Z"
        },
        "id": "e04a5706",
        "outputId": "80bcf916-bdd9-4535-b106-1d55c187b10b",
        "papermill": {
          "duration": 11.429762,
          "end_time": "2022-10-03T04:15:01.148682",
          "exception": false,
          "start_time": "2022-10-03T04:14:49.718920",
          "status": "completed"
        },
        "tags": []
      },
      "outputs": [
        {
          "name": "stdout",
          "output_type": "stream",
          "text": [
            "Epoch 1/100\n"
          ]
        },
        {
          "name": "stderr",
          "output_type": "stream",
          "text": [
            "2022-10-03 04:14:49.784600: I tensorflow/compiler/mlir/mlir_graph_optimization_pass.cc:185] None of the MLIR Optimization Passes are enabled (registered 2)\n"
          ]
        },
        {
          "name": "stdout",
          "output_type": "stream",
          "text": [
            "29/29 - 2s - loss: 1.3856 - accuracy: 0.2708 - val_loss: 1.4107 - val_accuracy: 0.0000e+00\n",
            "Epoch 2/100\n",
            "29/29 - 0s - loss: 1.3825 - accuracy: 0.2775 - val_loss: 1.4488 - val_accuracy: 0.0000e+00\n",
            "Epoch 3/100\n",
            "29/29 - 0s - loss: 1.3797 - accuracy: 0.2863 - val_loss: 1.4854 - val_accuracy: 0.0000e+00\n",
            "Epoch 4/100\n",
            "29/29 - 0s - loss: 1.3771 - accuracy: 0.2775 - val_loss: 1.5233 - val_accuracy: 0.0000e+00\n",
            "Epoch 5/100\n",
            "29/29 - 0s - loss: 1.3737 - accuracy: 0.2775 - val_loss: 1.5571 - val_accuracy: 0.0000e+00\n",
            "Epoch 6/100\n",
            "29/29 - 0s - loss: 1.3680 - accuracy: 0.3651 - val_loss: 1.5263 - val_accuracy: 0.0000e+00\n",
            "Epoch 7/100\n",
            "29/29 - 0s - loss: 1.3531 - accuracy: 0.3885 - val_loss: 1.5503 - val_accuracy: 0.0116\n",
            "Epoch 8/100\n",
            "29/29 - 0s - loss: 1.3258 - accuracy: 0.4384 - val_loss: 1.5753 - val_accuracy: 0.0698\n",
            "Epoch 9/100\n",
            "29/29 - 0s - loss: 1.2753 - accuracy: 0.4839 - val_loss: 1.4878 - val_accuracy: 0.2209\n",
            "Epoch 10/100\n",
            "29/29 - 0s - loss: 1.1922 - accuracy: 0.4983 - val_loss: 1.5203 - val_accuracy: 0.1860\n",
            "Epoch 11/100\n",
            "29/29 - 0s - loss: 1.0847 - accuracy: 0.5128 - val_loss: 1.6311 - val_accuracy: 0.1279\n",
            "Epoch 12/100\n",
            "29/29 - 0s - loss: 0.9881 - accuracy: 0.5094 - val_loss: 1.3928 - val_accuracy: 0.2093\n",
            "Epoch 13/100\n",
            "29/29 - 0s - loss: 0.9105 - accuracy: 0.5316 - val_loss: 1.5996 - val_accuracy: 0.1512\n",
            "Epoch 14/100\n",
            "29/29 - 0s - loss: 0.8384 - accuracy: 0.5438 - val_loss: 1.9448 - val_accuracy: 0.1163\n",
            "Epoch 15/100\n",
            "29/29 - 0s - loss: 0.7939 - accuracy: 0.6349 - val_loss: 2.0195 - val_accuracy: 0.1395\n",
            "Epoch 16/100\n",
            "29/29 - 0s - loss: 0.7498 - accuracy: 0.7092 - val_loss: 1.7385 - val_accuracy: 0.1860\n",
            "Epoch 17/100\n",
            "29/29 - 0s - loss: 0.6972 - accuracy: 0.6915 - val_loss: 1.8030 - val_accuracy: 0.1977\n",
            "Epoch 18/100\n",
            "29/29 - 0s - loss: 0.6587 - accuracy: 0.7802 - val_loss: 2.2897 - val_accuracy: 0.1628\n",
            "Epoch 19/100\n",
            "29/29 - 0s - loss: 0.6170 - accuracy: 0.8335 - val_loss: 2.0201 - val_accuracy: 0.2093\n",
            "Epoch 20/100\n",
            "29/29 - 0s - loss: 0.5739 - accuracy: 0.8513 - val_loss: 2.3819 - val_accuracy: 0.1744\n",
            "Epoch 21/100\n",
            "29/29 - 0s - loss: 0.5484 - accuracy: 0.8479 - val_loss: 2.1398 - val_accuracy: 0.2326\n",
            "Epoch 22/100\n",
            "29/29 - 0s - loss: 0.5133 - accuracy: 0.8646 - val_loss: 1.8557 - val_accuracy: 0.2326\n",
            "Epoch 23/100\n",
            "29/29 - 0s - loss: 0.4946 - accuracy: 0.8635 - val_loss: 2.2277 - val_accuracy: 0.2326\n",
            "Epoch 24/100\n",
            "29/29 - 0s - loss: 0.4649 - accuracy: 0.8668 - val_loss: 2.3652 - val_accuracy: 0.2442\n",
            "Epoch 25/100\n",
            "29/29 - 0s - loss: 0.4468 - accuracy: 0.8690 - val_loss: 2.5031 - val_accuracy: 0.2326\n",
            "Epoch 26/100\n",
            "29/29 - 0s - loss: 0.4244 - accuracy: 0.8690 - val_loss: 2.0851 - val_accuracy: 0.2791\n",
            "Epoch 27/100\n",
            "29/29 - 0s - loss: 0.4120 - accuracy: 0.8735 - val_loss: 2.7360 - val_accuracy: 0.2209\n",
            "Epoch 28/100\n",
            "29/29 - 0s - loss: 0.3978 - accuracy: 0.8713 - val_loss: 2.8542 - val_accuracy: 0.2209\n",
            "Epoch 29/100\n",
            "29/29 - 0s - loss: 0.3821 - accuracy: 0.8724 - val_loss: 2.4622 - val_accuracy: 0.2442\n",
            "Epoch 30/100\n",
            "29/29 - 0s - loss: 0.3768 - accuracy: 0.8801 - val_loss: 2.8152 - val_accuracy: 0.2442\n",
            "Epoch 31/100\n",
            "29/29 - 0s - loss: 0.3688 - accuracy: 0.8746 - val_loss: 2.7736 - val_accuracy: 0.2558\n",
            "Epoch 32/100\n",
            "29/29 - 0s - loss: 0.3538 - accuracy: 0.8912 - val_loss: 3.0915 - val_accuracy: 0.2326\n",
            "Epoch 33/100\n",
            "29/29 - 0s - loss: 0.3465 - accuracy: 0.8835 - val_loss: 3.1944 - val_accuracy: 0.2442\n",
            "Epoch 34/100\n",
            "29/29 - 0s - loss: 0.3429 - accuracy: 0.8801 - val_loss: 3.3121 - val_accuracy: 0.2326\n",
            "Epoch 35/100\n",
            "29/29 - 0s - loss: 0.3365 - accuracy: 0.8990 - val_loss: 2.6410 - val_accuracy: 0.2907\n",
            "Epoch 36/100\n",
            "29/29 - 0s - loss: 0.3402 - accuracy: 0.8835 - val_loss: 2.7511 - val_accuracy: 0.2791\n",
            "Epoch 37/100\n",
            "29/29 - 0s - loss: 0.3324 - accuracy: 0.8935 - val_loss: 3.4118 - val_accuracy: 0.2326\n",
            "Epoch 38/100\n",
            "29/29 - 0s - loss: 0.3376 - accuracy: 0.8868 - val_loss: 3.5707 - val_accuracy: 0.2326\n",
            "Epoch 39/100\n",
            "29/29 - 0s - loss: 0.3306 - accuracy: 0.8879 - val_loss: 3.7608 - val_accuracy: 0.2326\n",
            "Epoch 40/100\n",
            "29/29 - 0s - loss: 0.3212 - accuracy: 0.8868 - val_loss: 3.0151 - val_accuracy: 0.2791\n",
            "Epoch 41/100\n",
            "29/29 - 0s - loss: 0.3283 - accuracy: 0.8846 - val_loss: 2.6840 - val_accuracy: 0.3488\n",
            "Epoch 42/100\n",
            "29/29 - 0s - loss: 0.3241 - accuracy: 0.8923 - val_loss: 2.8137 - val_accuracy: 0.3372\n",
            "Epoch 43/100\n",
            "29/29 - 0s - loss: 0.3128 - accuracy: 0.8890 - val_loss: 3.6509 - val_accuracy: 0.2558\n",
            "Epoch 44/100\n",
            "29/29 - 0s - loss: 0.3001 - accuracy: 0.8857 - val_loss: 3.6991 - val_accuracy: 0.2558\n",
            "Epoch 45/100\n",
            "29/29 - 0s - loss: 0.2973 - accuracy: 0.8912 - val_loss: 3.4976 - val_accuracy: 0.2907\n",
            "Epoch 46/100\n",
            "29/29 - 0s - loss: 0.2836 - accuracy: 0.8901 - val_loss: 3.4868 - val_accuracy: 0.2907\n",
            "Epoch 47/100\n",
            "29/29 - 0s - loss: 0.2810 - accuracy: 0.8846 - val_loss: 3.3050 - val_accuracy: 0.2674\n",
            "Epoch 48/100\n",
            "29/29 - 0s - loss: 0.2759 - accuracy: 0.8879 - val_loss: 3.9073 - val_accuracy: 0.2442\n",
            "Epoch 49/100\n",
            "29/29 - 0s - loss: 0.2884 - accuracy: 0.8857 - val_loss: 4.1625 - val_accuracy: 0.2209\n",
            "Epoch 50/100\n",
            "29/29 - 0s - loss: 0.2733 - accuracy: 0.8868 - val_loss: 3.2332 - val_accuracy: 0.3140\n",
            "Epoch 51/100\n",
            "29/29 - 0s - loss: 0.2883 - accuracy: 0.9034 - val_loss: 3.9005 - val_accuracy: 0.2674\n",
            "Epoch 52/100\n",
            "29/29 - 0s - loss: 0.2638 - accuracy: 0.8990 - val_loss: 3.5423 - val_accuracy: 0.2674\n",
            "Epoch 53/100\n",
            "29/29 - 0s - loss: 0.2671 - accuracy: 0.8935 - val_loss: 4.0583 - val_accuracy: 0.2674\n",
            "Epoch 54/100\n",
            "29/29 - 0s - loss: 0.2676 - accuracy: 0.9034 - val_loss: 3.4656 - val_accuracy: 0.2674\n",
            "Epoch 55/100\n",
            "29/29 - 0s - loss: 0.2614 - accuracy: 0.8957 - val_loss: 3.4110 - val_accuracy: 0.2674\n",
            "Epoch 56/100\n",
            "29/29 - 0s - loss: 0.2688 - accuracy: 0.8868 - val_loss: 3.9024 - val_accuracy: 0.2674\n",
            "Epoch 57/100\n",
            "29/29 - 0s - loss: 0.2472 - accuracy: 0.9046 - val_loss: 3.8688 - val_accuracy: 0.2791\n",
            "Epoch 58/100\n",
            "29/29 - 0s - loss: 0.2484 - accuracy: 0.8935 - val_loss: 4.0163 - val_accuracy: 0.2674\n",
            "Epoch 59/100\n",
            "29/29 - 0s - loss: 0.2482 - accuracy: 0.9001 - val_loss: 3.7525 - val_accuracy: 0.2442\n",
            "Epoch 60/100\n",
            "29/29 - 0s - loss: 0.2407 - accuracy: 0.8990 - val_loss: 3.5415 - val_accuracy: 0.2791\n",
            "Epoch 61/100\n",
            "29/29 - 0s - loss: 0.2369 - accuracy: 0.9112 - val_loss: 3.4011 - val_accuracy: 0.3023\n",
            "Epoch 62/100\n",
            "29/29 - 0s - loss: 0.2671 - accuracy: 0.9057 - val_loss: 4.2440 - val_accuracy: 0.2674\n",
            "Epoch 63/100\n",
            "29/29 - 0s - loss: 0.2389 - accuracy: 0.8968 - val_loss: 3.8847 - val_accuracy: 0.2674\n",
            "Epoch 64/100\n",
            "29/29 - 0s - loss: 0.2347 - accuracy: 0.9034 - val_loss: 3.6857 - val_accuracy: 0.2674\n",
            "Epoch 65/100\n",
            "29/29 - 0s - loss: 0.2338 - accuracy: 0.9034 - val_loss: 4.6246 - val_accuracy: 0.2558\n",
            "Epoch 66/100\n",
            "29/29 - 0s - loss: 0.2322 - accuracy: 0.9034 - val_loss: 4.2122 - val_accuracy: 0.2791\n",
            "Epoch 67/100\n",
            "29/29 - 0s - loss: 0.2244 - accuracy: 0.9156 - val_loss: 3.9255 - val_accuracy: 0.2674\n",
            "Epoch 68/100\n",
            "29/29 - 0s - loss: 0.2242 - accuracy: 0.9046 - val_loss: 4.7415 - val_accuracy: 0.2558\n",
            "Epoch 69/100\n",
            "29/29 - 0s - loss: 0.2436 - accuracy: 0.9090 - val_loss: 4.2775 - val_accuracy: 0.2674\n",
            "Epoch 70/100\n",
            "29/29 - 0s - loss: 0.2253 - accuracy: 0.9046 - val_loss: 4.1759 - val_accuracy: 0.2791\n",
            "Epoch 71/100\n",
            "29/29 - 0s - loss: 0.2255 - accuracy: 0.8968 - val_loss: 4.0881 - val_accuracy: 0.2907\n",
            "Epoch 72/100\n",
            "29/29 - 0s - loss: 0.2290 - accuracy: 0.9012 - val_loss: 4.5835 - val_accuracy: 0.2558\n",
            "Epoch 73/100\n",
            "29/29 - 0s - loss: 0.2183 - accuracy: 0.9046 - val_loss: 4.0796 - val_accuracy: 0.2558\n",
            "Epoch 74/100\n",
            "29/29 - 0s - loss: 0.2292 - accuracy: 0.9068 - val_loss: 3.8561 - val_accuracy: 0.2907\n",
            "Epoch 75/100\n",
            "29/29 - 0s - loss: 0.2109 - accuracy: 0.9023 - val_loss: 3.9022 - val_accuracy: 0.2674\n",
            "Epoch 76/100\n",
            "29/29 - 0s - loss: 0.2225 - accuracy: 0.9134 - val_loss: 3.6873 - val_accuracy: 0.3140\n",
            "Epoch 77/100\n",
            "29/29 - 0s - loss: 0.2230 - accuracy: 0.8946 - val_loss: 4.1013 - val_accuracy: 0.2674\n",
            "Epoch 78/100\n",
            "29/29 - 0s - loss: 0.2144 - accuracy: 0.9023 - val_loss: 4.5973 - val_accuracy: 0.2674\n",
            "Epoch 79/100\n",
            "29/29 - 0s - loss: 0.2071 - accuracy: 0.8901 - val_loss: 4.6807 - val_accuracy: 0.2674\n",
            "Epoch 80/100\n",
            "29/29 - 0s - loss: 0.2134 - accuracy: 0.9023 - val_loss: 4.7529 - val_accuracy: 0.2558\n",
            "Epoch 81/100\n",
            "29/29 - 0s - loss: 0.2235 - accuracy: 0.9101 - val_loss: 4.0454 - val_accuracy: 0.2674\n",
            "Epoch 82/100\n",
            "29/29 - 0s - loss: 0.2160 - accuracy: 0.9123 - val_loss: 4.7575 - val_accuracy: 0.2558\n",
            "Epoch 83/100\n",
            "29/29 - 0s - loss: 0.2167 - accuracy: 0.9134 - val_loss: 4.0511 - val_accuracy: 0.2791\n",
            "Epoch 84/100\n",
            "29/29 - 0s - loss: 0.2136 - accuracy: 0.9057 - val_loss: 4.2709 - val_accuracy: 0.2674\n",
            "Epoch 85/100\n",
            "29/29 - 0s - loss: 0.1981 - accuracy: 0.9079 - val_loss: 4.5424 - val_accuracy: 0.2791\n",
            "Epoch 86/100\n",
            "29/29 - 0s - loss: 0.2014 - accuracy: 0.8979 - val_loss: 4.4499 - val_accuracy: 0.2791\n",
            "Epoch 87/100\n",
            "29/29 - 0s - loss: 0.2056 - accuracy: 0.9101 - val_loss: 4.2816 - val_accuracy: 0.2674\n",
            "Epoch 88/100\n",
            "29/29 - 0s - loss: 0.1919 - accuracy: 0.9079 - val_loss: 3.4039 - val_accuracy: 0.3605\n",
            "Epoch 89/100\n",
            "29/29 - 0s - loss: 0.2020 - accuracy: 0.9068 - val_loss: 4.1988 - val_accuracy: 0.2442\n",
            "Epoch 90/100\n",
            "29/29 - 0s - loss: 0.2027 - accuracy: 0.8957 - val_loss: 4.6762 - val_accuracy: 0.2674\n",
            "Epoch 91/100\n",
            "29/29 - 0s - loss: 0.1886 - accuracy: 0.9112 - val_loss: 4.9360 - val_accuracy: 0.2442\n",
            "Epoch 92/100\n",
            "29/29 - 0s - loss: 0.1978 - accuracy: 0.9046 - val_loss: 3.6969 - val_accuracy: 0.3372\n",
            "Epoch 93/100\n",
            "29/29 - 0s - loss: 0.1918 - accuracy: 0.9079 - val_loss: 4.9798 - val_accuracy: 0.2442\n",
            "Epoch 94/100\n",
            "29/29 - 0s - loss: 0.2009 - accuracy: 0.9012 - val_loss: 4.0087 - val_accuracy: 0.2674\n",
            "Epoch 95/100\n",
            "29/29 - 0s - loss: 0.1995 - accuracy: 0.9057 - val_loss: 4.0595 - val_accuracy: 0.3023\n",
            "Epoch 96/100\n",
            "29/29 - 0s - loss: 0.1931 - accuracy: 0.9156 - val_loss: 4.4955 - val_accuracy: 0.2674\n",
            "Epoch 97/100\n",
            "29/29 - 0s - loss: 0.1897 - accuracy: 0.9023 - val_loss: 4.4836 - val_accuracy: 0.2674\n",
            "Epoch 98/100\n",
            "29/29 - 0s - loss: 0.1850 - accuracy: 0.9079 - val_loss: 4.0967 - val_accuracy: 0.2907\n",
            "Epoch 99/100\n",
            "29/29 - 0s - loss: 0.1847 - accuracy: 0.9068 - val_loss: 4.7834 - val_accuracy: 0.2674\n",
            "Epoch 100/100\n",
            "29/29 - 0s - loss: 0.1890 - accuracy: 0.9245 - val_loss: 4.8014 - val_accuracy: 0.2558\n"
          ]
        }
      ],
      "source": [
        "num_epochs = 100\n",
        "history = model.fit(training_padded, training_labels, epochs=num_epochs, validation_data=(testing_padded, testing_labels), verbose=2)"
      ]
    }
  ],
  "metadata": {
    "colab": {
      "provenance": []
    },
    "kernelspec": {
      "display_name": "Python 3.11.0 64-bit",
      "language": "python",
      "name": "python3"
    },
    "language_info": {
      "codemirror_mode": {
        "name": "ipython",
        "version": 3
      },
      "file_extension": ".py",
      "mimetype": "text/x-python",
      "name": "python",
      "nbconvert_exporter": "python",
      "pygments_lexer": "ipython3",
      "version": "3.11.0"
    },
    "orig_nbformat": 4,
    "vscode": {
      "interpreter": {
        "hash": "aee8b7b246df8f9039afb4144a1f6fd8d2ca17a180786b69acc140d282b71a49"
      }
    }
  },
  "nbformat": 4,
  "nbformat_minor": 0
}
